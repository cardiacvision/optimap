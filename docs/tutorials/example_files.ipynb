{
 "cells": [
  {
   "cell_type": "markdown",
   "metadata": {
    "tags": [
     "remove-input"
    ]
   },
   "source": [
    "```{currentmodule} optimap\n",
    "```"
   ]
  },
  {
   "cell_type": "code",
   "execution_count": null,
   "metadata": {
    "tags": [
     "remove-input",
     "remove-output"
    ]
   },
   "outputs": [],
   "source": [
    "# Code snippet for rendering animations in the docs\n",
    "from IPython.display import HTML\n",
    "import warnings\n",
    "import matplotlib\n",
    "matplotlib.rcParams['animation.embed_limit'] = 2**128\n",
    "\n",
    "def render_ani_func(f):\n",
    "    om.utils.disable_interactive_backend_switching()\n",
    "    plt.switch_backend('Agg')\n",
    "    with warnings.catch_warnings():\n",
    "        warnings.simplefilter(\"ignore\")\n",
    "        ani = f()\n",
    "    %matplotlib inline\n",
    "    om.utils.enable_interactive_backend_switching()\n",
    "\n",
    "    vid = HTML(ani.to_html5_video())\n",
    "    plt.close('all')\n",
    "    return vid"
   ]
  },
  {
   "cell_type": "markdown",
   "metadata": {},
   "source": [
    "# Example Files\n",
    "\n",
    "``optimap`` provides several optical mapping example videos, which are used throughout the [Tutorials](https://optimap.readthedocs.io/en/latest/tutorials/). The example files can be used to test optimap or to develop your own analysis scripts. They can be downloaded directly within a script while using ``optimap``:"
   ]
  },
  {
   "cell_type": "code",
   "execution_count": null,
   "metadata": {
    "tags": [
     "skip-execution"
    ]
   },
   "outputs": [],
   "source": [
    "import optimap as om\n",
    "\n",
    "filepath = om.utils.retrieve_example_data('optimap-example-file-01.npy')\n",
    "video = om.load_video(filepath)"
   ]
  },
  {
   "cell_type": "markdown",
   "metadata": {},
   "source": [
    "or, alternatively, be downloaded from [cardiacvision.ucsf.edu/optimap/](https://cardiacvision.ucsf.edu/optimap/) and stored on your harddrive. Please reference ``optimap`` if you use the example files in any publications."
   ]
  },
  {
   "cell_type": "markdown",
   "metadata": {},
   "source": [
    "````{dropdown} Example File 1\n",
    ":closed:\n",
    "\n",
    "Example file 1 is a voltage-sensitive optical mapping video recorded with a Basler acA720-520um camera. It shows an isolated rabbit heart during sinus rhythm. The heart was freely contracting. Excitation-contraction uncoupling agents, such as Blebbistatin, were not used during the experiment. \n",
    "\n",
    "```python\n",
    "filepath = om.utils.retrieve_example_data('optimap-example-file-01.npy')\n",
    "video = om.load_video(filepath)\n",
    "```\n",
    "\n",
    "The example video file was originally recorded as a single-channel video and was converted to a .npy file using ``optimap``.\n",
    "\n",
    "* Date: 2022\n",
    "* Experimenters: Jan Lebert, Namita Ravi, Jan Christoph\n",
    "* Institution: Cardiovascular Research Institute, University of California, San Francisco\n",
    "* Camera: Basler acA720-520um\n",
    "* Imaging Speed: 500 fps\n",
    "* Mode: voltage-sensitive (single channel)\n",
    "* Dye: Di-4-ANEPPS\n",
    "* Rhythm: Sinus\n",
    "* Motion: Yes (no Blebbistatin)\n",
    "* Dimensions: 1040 frames, 390x300 pixels\n",
    "````"
   ]
  },
  {
   "cell_type": "markdown",
   "metadata": {},
   "source": [
    "````{dropdown} Example File 2\n",
    ":closed:\n",
    "\n",
    "Example file 2 is a voltage-sensitive optical mapping video recorded with a Basler acA720-520um camera at 500 fps. It shows an isolated rabbit heart during ventricular fibrillation. The heart was freely contracting. Excitation-contraction uncoupling agents, such as Blebbistatin, were not used during the experiment. \n",
    "\n",
    "```python\n",
    "filepath = om.utils.retrieve_example_data('optimap-example-file-02.npy')\n",
    "video = om.load_video(filepath)\n",
    "```\n",
    "\n",
    "The example video file was originally recorded as a single-channel video and was converted to a .npy file using ``optimap``.\n",
    "\n",
    "* Date: April 13, 2023\n",
    "* Experimenters: Jan Lebert, Shrey Chowdhary, Jan Christoph\n",
    "* Institution: Cardiovascular Research Institute, University of California, San Francisco\n",
    "* Camera: Basler acA720-520um\n",
    "* Imaging Speed: 500 fps\n",
    "* Mode: voltage-sensitive (single channel)\n",
    "* Dye: Di-4-ANEPPS\n",
    "* Rhythm: Ventricular Fibrillation\n",
    "* Motion: Yes (no Blebbistatin)\n",
    "* Dimensions: 1040 frames, 390x300 pixels\n",
    "````"
   ]
  },
  {
   "cell_type": "markdown",
   "metadata": {},
   "source": [
    "````{dropdown} Example File 3\n",
    ":closed:\n",
    "\n",
    "Example file 3 is a voltage- and calcium-sensitive optical mapping video. It shows action potential and calcium waves in an isolated rabbit heart during pacing. The heart was uncoupled using Blebbistatin.\n",
    "\n",
    "```python\n",
    "filepath = om.utils.retrieve_example_data('optimap-example-file-03.npy')\n",
    "video = om.load_video(filepath)\n",
    "```\n",
    "The example video file was originally recorded as a dual-channel video and was converted to a .npy file using ``optimap``. The even frames correspond to voltage-sensitive and the odd frames to calcium-sensitive frames.\n",
    "\n",
    "* Date: August 17, 2021\n",
    "* Experimenters: Jeff Olgin\n",
    "* Institution: Cardiovascular Research Institute, University of California, San Francisco\n",
    "* Camera: SciMedia MiCAM ULTIMA (Dual)\n",
    "* Imaging Speed: 1000 fps\n",
    "* Mode: voltage- and calcium-sensitive (dual channel)\n",
    "* Dye: Di-4-ANEPPS\n",
    "* Rhythm: Sinus\n",
    "* Motion: No (with Blebbistatin)\n",
    "* Dimensions: 2696 frames, 100x100 pixels\n",
    "\n",
    "````"
   ]
  },
  {
   "cell_type": "markdown",
   "metadata": {},
   "source": [
    "````{dropdown} Example File 4\n",
    ":closed:\n",
    "\n",
    "Example file 4 is \n",
    "\n",
    "```python\n",
    "filepath = om.utils.retrieve_example_data('optimap-example-file-04.npy')\n",
    "video = om.load_video(filepath)\n",
    "```\n",
    "````"
   ]
  }
 ],
 "metadata": {
  "kernelspec": {
   "display_name": "Python 3 (ipykernel)",
   "language": "python",
   "name": "python3"
  },
  "language_info": {
   "codemirror_mode": {
    "name": "ipython",
    "version": 3
   },
   "file_extension": ".py",
   "mimetype": "text/x-python",
   "name": "python",
   "nbconvert_exporter": "python",
   "pygments_lexer": "ipython3",
   "version": "3.11.6"
  },
  "test_name": "notebook1"
 },
 "nbformat": 4,
 "nbformat_minor": 2
}
