{
 "cells": [
  {
   "cell_type": "markdown",
   "metadata": {
    "tags": [
     "remove-input"
    ]
   },
   "source": [
    "```{currentmodule} optimap\n",
    "```"
   ]
  },
  {
   "cell_type": "markdown",
   "metadata": {},
   "source": [
    "# Example Data Files\n",
    "\n",
    "``optimap`` provides several optical mapping example videos, which are used throughout the [Tutorials](https://optimap.readthedocs.io/en/latest/tutorials/). The example files can be used to test optimap or to develop your own analysis scripts. They can be downloaded directly within a script while using ``optimap``:"
   ]
  },
  {
   "cell_type": "code",
   "execution_count": null,
   "metadata": {
    "tags": [
     "skip-execution"
    ]
   },
   "outputs": [],
   "source": [
    "import optimap as om\n",
    "\n",
    "filepath = om.download_example_data(\"VF_Rabbit_1.npy\")\n",
    "video = om.load_video(filepath)"
   ]
  },
  {
   "cell_type": "markdown",
   "metadata": {},
   "source": [
    "or, alternatively, be downloaded from [cardiacvision.ucsf.edu/optimap/](https://cardiacvision.ucsf.edu/optimap/). Please reference ``optimap`` if you use the example files in any publications.\n",
    "\n",
    "## Video Recordings"
   ]
  },
  {
   "cell_type": "markdown",
   "metadata": {},
   "source": [
    "````{dropdown} Rabbit_Sinus_1\n",
    ":closed:\n",
    "\n",
    "`Rabbit_Sinus_1` is a voltage-sensitive optical mapping video recorded with a Basler acA720-520um camera. It shows an isolated rabbit heart during sinus rhythm. The heart was freely contracting. Excitation-contraction uncoupling agents, such as Blebbistatin, were not used during the experiment. \n",
    "\n",
    "```python\n",
    "filepath = om.download_example_data(\"Rabbit_Sinus_1.npy\")\n",
    "video = om.load_video(filepath)\n",
    "```\n",
    "\n",
    "The example video file was originally recorded as a single-channel video and was converted to a .npy file using ``optimap``.\n",
    "\n",
    "* Date: 2022\n",
    "* Experimenters: Jan Lebert, Namita Ravi, Jan Christoph\n",
    "* Institution: Cardiovascular Research Institute, University of California, San Francisco\n",
    "* Camera: Basler acA720-520um\n",
    "* Imaging Speed: 500 fps\n",
    "* Mode: voltage-sensitive (single channel)\n",
    "* Dye: Di-4-ANEPPS\n",
    "* Rhythm: Sinus\n",
    "* Motion: Yes (no Blebbistatin)\n",
    "* Dimensions: 1040 frames, 390x300 pixels\n",
    "````"
   ]
  },
  {
   "cell_type": "markdown",
   "metadata": {},
   "source": [
    "````{dropdown} VF_Rabbit_1\n",
    ":closed:\n",
    "\n",
    "`VF_Rabbit_1` is a voltage-sensitive optical mapping video recorded with a Basler acA720-520um camera at 500 fps. It shows an isolated rabbit heart during ventricular fibrillation. The heart was freely contracting. Excitation-contraction uncoupling agents, such as Blebbistatin, were not used during the experiment. \n",
    "\n",
    "```python\n",
    "filepath = om.download_example_data(\"VF_Rabbit_1.npy\")\n",
    "video = om.load_video(filepath)\n",
    "```\n",
    "\n",
    "The example video file was originally recorded as a single-channel video and was converted to a .npy file using ``optimap``.\n",
    "\n",
    "* Date: April 13, 2023\n",
    "* Experimenters: Jan Lebert, Shrey Chowdhary, Jan Christoph\n",
    "* Institution: Cardiovascular Research Institute, University of California, San Francisco\n",
    "* Camera: Basler acA720-520um\n",
    "* Imaging Speed: 500 fps\n",
    "* Mode: voltage-sensitive (single channel)\n",
    "* Dye: Di-4-ANEPPS\n",
    "* Rhythm: Ventricular Fibrillation\n",
    "* Motion: Yes (no Blebbistatin)\n",
    "* Dimensions: 1000 frames, 390x300 pixels\n",
    "````"
   ]
  },
  {
   "cell_type": "markdown",
   "metadata": {},
   "source": [
    "````{dropdown} Dualchannel_1\n",
    ":closed:\n",
    "\n",
    "`Dualchannel_1` contains a dual-channel voltage- and calcium-sensitive optical mapping video. It shows action potential and calcium waves in an isolated rabbit heart during pacing. The heart was uncoupled using Blebbistatin.\n",
    "\n",
    "```python\n",
    "filepath = om.download_example_data(\"Dualchannel_1.zip\")\n",
    "filepath /= \"Burst pacing bleb s1 60ms.rsh\"  # path to recording in unzipped folder\n",
    "\n",
    "video_voltage = om.load_video(filename, start_frame=0, step=2) # select the even frames\n",
    "video_calcium = om.load_video(filename, start_frame=1, step=2) # select the odd frames\n",
    "\n",
    "metadata = om.load_metadata(filepath)\n",
    "print(metadata)\n",
    "\n",
    "# pacing section of the recording also available as separate file:\n",
    "filepath = om.download_example_data(\"Dualchannel_1.npy\")\n",
    "video_voltage = om.load_video(filepath, start_frame=0, step=2) # select the even frames\n",
    "video_calcium = om.load_video(filepath, start_frame=1, step=2) # select the odd frames\n",
    "```\n",
    "`Dualchannel_1.zip` contains the original whole SciMedia MiCAM ULTIMA recording, `Dualchannel_1.npy` contains only the pacing section of the recording and is rotated by 90 degrees. The even frames correspond to the voltage-sensitive and the odd frames to the calcium-sensitive video.\n",
    "\n",
    "* Date: August 17, 2021\n",
    "* Experimenters: Hao Zhang, Jeff Olgin\n",
    "* Institution: Cardiovascular Research Institute, University of California, San Francisco\n",
    "* Camera: SciMedia MiCAM ULTIMA (Dual)\n",
    "* Imaging Speed: 1000 fps\n",
    "* Mode: voltage- and calcium-sensitive (dual channel)\n",
    "* Dye: \n",
    "* Rhythm: Pacing\n",
    "* Motion: No (with Blebbistatin)\n",
    "* Dimensions: 2x 2048 frames (SciMedia MiCAM ULTIMA) or 2x 1348 frames (`.npy` file), 100x100 pixels\n",
    "\n",
    "````"
   ]
  },
  {
   "cell_type": "markdown",
   "metadata": {},
   "source": [
    "````{dropdown} Ratiometry_1\n",
    ":closed:\n",
    "\n",
    "`Ratiometry_1` is a ratiometric voltage-sensitive optical mapping video showing ventricular pacing in an isolated rabbit heart. The heart was freely contracting. Excitation-contraction uncoupling agents, such as Blebbistatin, were not used during the experiment. \n",
    "\n",
    "```python\n",
    "filepath = om.download_example_data(\"Ratiometry_1.npy\")\n",
    "video = om.load_video(filepath)\n",
    "\n",
    "odd_frames = video[::2]\n",
    "even_frames = video[1::2]\n",
    "```\n",
    "The example video file was originally recorded as a dual-channel video and was converted to a .npy file using ``optimap``. The even and odd frames were excited with blue and green light (or the other way around), respectively.\n",
    "\n",
    "* Date: February 13, 2019\n",
    "* Experimenters: Vineesh Kappadan, Saba Telele, Jan Christoph\n",
    "* Institution: Max Planck Institute for Dynamics and Self-Organization, German Center for Cardiovascular Research, Goettingen, Germany\n",
    "* Camera: Photometrics Evolve\n",
    "* Imaging Speed: 500 fps\n",
    "* Mode: voltage-sensitive (interleaved dual channel, single-camera, excitation ratiometry)\n",
    "* Dye: Di-4-ANEPPS\n",
    "* Rhythm: Ventricular Pacing\n",
    "* Motion: Yes (no Blebbistatin)\n",
    "* Dimensions: 1200 frames, 128x128 pixels\n",
    "\n",
    "see {cite:t}`Kappadan2020` for details.\n",
    "````"
   ]
  }
 ],
 "metadata": {
  "kernelspec": {
   "display_name": "Python 3 (ipykernel)",
   "language": "python",
   "name": "python3"
  },
  "language_info": {
   "codemirror_mode": {
    "name": "ipython",
    "version": 3
   },
   "file_extension": ".py",
   "mimetype": "text/x-python",
   "name": "python",
   "nbconvert_exporter": "python",
   "pygments_lexer": "ipython3",
   "version": "3.11.6"
  },
  "test_name": "notebook1"
 },
 "nbformat": 4,
 "nbformat_minor": 2
}
