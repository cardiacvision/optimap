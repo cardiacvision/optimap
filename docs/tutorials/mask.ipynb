{
 "cells": [
  {
   "cell_type": "markdown",
   "metadata": {
    "tags": [
     "remove-input"
    ]
   },
   "source": [
    "```{currentmodule} optimap\n",
    "```"
   ]
  },
  {
   "cell_type": "code",
   "execution_count": null,
   "metadata": {
    "tags": [
     "remove-input",
     "remove-output"
    ]
   },
   "outputs": [],
   "source": [
    "# Code snippet for rendering animations in the docs\n",
    "from IPython.display import HTML\n",
    "import warnings\n",
    "import matplotlib\n",
    "matplotlib.rcParams['animation.embed_limit'] = 2**128\n",
    "\n",
    "def render_ani_func(f):\n",
    "    om.utils.disable_interactive_backend_switching()\n",
    "    plt.switch_backend('Agg')\n",
    "    with warnings.catch_warnings():\n",
    "        warnings.simplefilter(\"ignore\")\n",
    "        ani = f()\n",
    "    %matplotlib inline\n",
    "    om.utils.enable_interactive_backend_switching()\n",
    "\n",
    "    vid = HTML(ani.to_html5_video())\n",
    "    plt.close('all')\n",
    "    return vid"
   ]
  },
  {
   "cell_type": "markdown",
   "metadata": {
    "tags": [
     "remove-input"
    ]
   },
   "source": [
    "```{tip}\n",
    "Download this tutorial as a {download}`Jupyter notebook <converted/mask.ipynb>`, or a {download}`python script <converted/mask.py>` with code cells. We highly recommend using [Visual Studio Code](#vscode) to execute this tutorial.\n",
    "```"
   ]
  },
  {
   "cell_type": "markdown",
   "metadata": {},
   "source": [
    "# Tutorial 3: Masking / Segmentation\n",
    "\n",
    "This tutorial explains how to select a region of interest in a video using ``optimap``. For instance, it is possible to use ``optimap`` to automatically select the heart surface, to manually draw a region of interest in the video image, or to ignore parts of the video close to the boundary. The post-processing can then be applied to  the masked or segmented part of the video image, for instance. ``optimap`` provides several easy-to-use routines for these purposes.\n",
    "\n",
    "We will first load an example video file using the following code (done automatically):"
   ]
  },
  {
   "cell_type": "code",
   "execution_count": null,
   "metadata": {
    "tags": []
   },
   "outputs": [],
   "source": [
    "import optimap as om\n",
    "import numpy as np\n",
    "import matplotlib.pyplot as plt\n",
    "\n",
    "filepath = om.utils.retrieve_example_data('Example_02_VF_Rabbit_Di-4-ANEPPS_Basler_acA720-520um_warped.npy')\n",
    "video_warped = om.load_video(filepath)\n",
    "om.print_properties(video_warped)\n",
    "\n",
    "frame = video_warped[0]  # first frame"
   ]
  },
  {
   "cell_type": "markdown",
   "metadata": {},
   "source": [
    "## Automatic Background Segmentation\n",
    "\n",
    "We can then use ``optimap``'s  {func}`background_mask` function to automatically separate much brighter tissue from the dark background:"
   ]
  },
  {
   "cell_type": "code",
   "execution_count": null,
   "metadata": {},
   "outputs": [],
   "source": [
    "background_mask = om.background_mask(frame, title='Automatic background mask')\n",
    "om.save_mask('background_mask.png', background_mask)"
   ]
  },
  {
   "cell_type": "markdown",
   "metadata": {},
   "source": [
    "The {func}`background_mask` function creates a two-dimensional binary array with ``True`` for background (here shown in red) and ``False`` for tissue. Here, we used the first frame of the video to create the mask. {func}`background_mask` and {func}`foreground_mask` automatically estimate an optimal threshold for the separation of foreground and background using the GHT {cite}`Barron2020` algorithm (see {func}`image.detect_background_threshold`). Pixels with a value below this threshold (here ``401.0``) are considered background, and pixels with a value above this threshold are considered foreground. The threshold can be adjusted manually, if desired:"
   ]
  },
  {
   "cell_type": "code",
   "execution_count": null,
   "metadata": {},
   "outputs": [],
   "source": [
    "foreground_mask = om.foreground_mask(frame, threshold=500, title='Manual threshold foreground mask')"
   ]
  },
  {
   "cell_type": "markdown",
   "metadata": {},
   "source": [
    "Here we specified a threshold value of ``500`` to generate a foreground mask. Note that both functions only separate foreground from background, i.e. they do not distinguish the ventricles from the atria. For this purpose, we need to use a different approach."
   ]
  },
  {
   "cell_type": "markdown",
   "metadata": {},
   "source": [
    "## Manual Segmentation using Drawing Tool\n",
    "\n",
    "We can manually draw a mask and select a region (e.g. the atria) using ``optimap``'s mask drawing tool:"
   ]
  },
  {
   "cell_type": "code",
   "execution_count": null,
   "metadata": {
    "tags": [
     "skip-execution"
    ]
   },
   "outputs": [],
   "source": [
    "manual_mask = om.interactive_mask(frame, initial_mask=foreground_mask)"
   ]
  },
  {
   "cell_type": "markdown",
   "metadata": {},
   "source": [
    "The drawing tool can be used to draw one or several arbitrary regions and the tool automatically creates the corresponding binary array as a mask. A drawn mask can be inverted or deleted, edits can be undone or redone, etc. (see Documentation). Simply use the above function and a window will pop up:\n",
    "\n",
    "<img align=\"center\" width=\"400\" src=\"https://cardiacvision.ucsf.edu/sites/g/files/tkssra6821/f/optimap%20tutorials%20mask%201.png\">\n",
    "\n",
    "<img align=\"center\" width=\"400\" src=\"https://cardiacvision.ucsf.edu/sites/g/files/tkssra6821/f/optimap%20tutorials%20mask%202.png\">\n",
    "\n",
    "The following table lists the available keybindings:\n",
    "| Key/Mouse           | Action                    |\n",
    "|---------------------|---------------------------|\n",
    "| `Scroll`            | Zoom in/out               |\n",
    "| `ctrl+z` or `cmd+z` | Undo                      |\n",
    "| `ctrl+y` or `cmd+y` | Redo                      |\n",
    "| `v`                 | Toggle mask visibility    |\n",
    "| `d`                 | Draw/Lasso mode           |\n",
    "| `e`                 | Erase mode                |\n",
    "| `q`                 | Quit                      |\n",
    "\n",
    "To edit a mask in different program, e.g. [GIMP](https://gimp.org), save the mask as a PNG file:\n",
    "```python\n",
    "om.save_mask(\"mask.png\", background_mask, image=frame)\n",
    "```\n",
    "The ``image`` argument is optional, but if provided, the mask will be saved as the alpha channel of the image. For editing the mask in GIMP select the alpha channel and use the paintbrush tool to edit the mask. The mask can then be loaded back into ``optimap`` using the following code:\n",
    "```python\n",
    "background_mask = om.load_mask(\"mask.png\")\n",
    "```\n",
    "\n",
    "The {func}`save_mask` and {func}`load_mask` functions support a variety of file formats, including PNG, TIFF, and NPY. See the documentation for more information.\n",
    "\n",
    "To visualize the mask, use {func}`show_mask`:"
   ]
  },
  {
   "cell_type": "code",
   "execution_count": null,
   "metadata": {
    "tags": [
     "remove-input",
     "remove-output"
    ]
   },
   "outputs": [],
   "source": [
    "fn = om.utils.retrieve_example_data('Example_02_VF_Rabbit_Di-4-ANEPPS_Basler_acA720-520um_warped_mask.npy', silent=True)\n",
    "manual_mask = om.load_mask(fn)"
   ]
  },
  {
   "cell_type": "code",
   "execution_count": null,
   "metadata": {},
   "outputs": [],
   "source": [
    "om.show_mask(manual_mask, image=frame, title='Manual mask');"
   ]
  },
  {
   "cell_type": "markdown",
   "metadata": {},
   "source": [
    "## Refining the mask\n",
    "\n",
    "Not in all cases the mask is perfect, and it may be necessary to adjust the mask. The automatic thresholding may not work well for all videos, and the mask may need to be adjusted. For instance, the mask may be too large or too small, or it may contain holes. We can use {func}`image.erode_mask` to shrink the mask by 10 pixels, or {func}`image.dilate_mask` to expand the mask by 10 pixels:"
   ]
  },
  {
   "cell_type": "code",
   "execution_count": null,
   "metadata": {},
   "outputs": [],
   "source": [
    "mask = np.logical_not(manual_mask)\n",
    "\n",
    "fig, axs = plt.subplots(1, 3)\n",
    "dilated = om.image.dilate_mask(mask, iterations=10, show=False)\n",
    "eroded = om.image.erode_mask(mask, iterations=10, border_value=True, show=False)\n",
    "\n",
    "om.show_mask(mask, image=frame, ax=axs[0], title='Original')\n",
    "om.show_mask(eroded, image=frame, ax=axs[1], title='Eroded')\n",
    "om.show_mask(dilated, image=frame, ax=axs[2], title='Dilated')\n",
    "plt.tight_layout()\n",
    "plt.show()"
   ]
  },
  {
   "cell_type": "markdown",
   "metadata": {},
   "source": [
    "Use {func}`image.fill_mask` to fill holes in the mask, to keep only the largest connected component (island) of the mask use {func}`image.largest_mask_component`. The {func}`image.largest_mask_component` function also has a ``invert`` argument to invert the mask before selecting the largest component (e.g. to keep the largest hole in the mask when working with background masks)."
   ]
  },
  {
   "cell_type": "code",
   "execution_count": null,
   "metadata": {},
   "outputs": [],
   "source": [
    "mask = om.foreground_mask(frame, threshold=1800, show=False)\n",
    "\n",
    "fig, axs = plt.subplots(1, 3)\n",
    "om.show_mask(mask, image=frame, title='Original', ax=axs[0])\n",
    "om.image.fill_mask(mask, image=frame, title='fill_mask()', ax=axs[1])\n",
    "om.image.largest_mask_component(mask, image=frame, title='largest_mask_component()', ax=axs[2])\n",
    "plt.tight_layout()\n",
    "plt.show()"
   ]
  },
  {
   "cell_type": "markdown",
   "metadata": {},
   "source": [
    "The opening and closing morphological operations combine erosion and dilation. For instance, {func}`image.open_mask` shrinks the mask and then expands it, while {func}`image.close_mask` expands the mask by and then shrinks it. By doing several iterations of this it can be used to remove small islands, fill holes, or to smooth the mask. See the [scipy documentation](https://docs.scipy.org/doc/scipy/tutorial/ndimage.html#morphology) for more information on morphological operations."
   ]
  },
  {
   "cell_type": "code",
   "execution_count": null,
   "metadata": {},
   "outputs": [],
   "source": [
    "mask = om.foreground_mask(frame, threshold=1400, show=False)\n",
    "\n",
    "fig, axs = plt.subplots(1, 3)\n",
    "om.show_mask(mask, image=frame, title='Original', ax=axs[0])\n",
    "om.image.open_mask(mask, iterations=10, image=frame, ax=axs[1], title='open_mask()')\n",
    "om.image.close_mask(mask, iterations=10, image=frame, ax=axs[2], title='close_mask()')\n",
    "plt.tight_layout()\n",
    "plt.show()"
   ]
  },
  {
   "cell_type": "markdown",
   "metadata": {},
   "source": [
    "## Working with masks\n",
    "\n",
    "```{warning}\n",
    "This tutorial is currently under development. We will add more information soon.\n",
    "```"
   ]
  },
  {
   "cell_type": "code",
   "execution_count": null,
   "metadata": {},
   "outputs": [],
   "source": [
    "mask = om.image.dilate_mask(manual_mask, iterations=2, image=frame, show=False)\n",
    "\n",
    "video_warped = video_warped.astype(np.float32)\n",
    "video_warped[:, mask] = np.nan"
   ]
  },
  {
   "cell_type": "code",
   "execution_count": null,
   "metadata": {
    "tags": [
     "skip-execution"
    ]
   },
   "outputs": [],
   "source": [
    "om.play_video(video_warped)"
   ]
  },
  {
   "cell_type": "code",
   "execution_count": null,
   "metadata": {
    "tags": [
     "remove-input"
    ]
   },
   "outputs": [],
   "source": [
    "render_ani_func(lambda: om.play_video(video_warped))"
   ]
  }
 ],
 "metadata": {
  "kernelspec": {
   "display_name": "Python 3 (ipykernel)",
   "language": "python",
   "name": "python3"
  },
  "language_info": {
   "codemirror_mode": {
    "name": "ipython",
    "version": 3
   },
   "file_extension": ".py",
   "mimetype": "text/x-python",
   "name": "python",
   "nbconvert_exporter": "python",
   "pygments_lexer": "ipython3",
   "version": "3.9.13"
  },
  "test_name": "notebook1"
 },
 "nbformat": 4,
 "nbformat_minor": 2
}
