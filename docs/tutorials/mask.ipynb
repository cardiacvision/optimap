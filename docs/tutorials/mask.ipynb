{
 "cells": [
  {
   "cell_type": "markdown",
   "metadata": {
    "tags": [
     "remove-input"
    ]
   },
   "source": [
    "```{currentmodule} optimap\n",
    "```"
   ]
  },
  {
   "cell_type": "code",
   "execution_count": null,
   "metadata": {
    "tags": [
     "remove-input",
     "remove-output"
    ]
   },
   "outputs": [],
   "source": [
    "from optimap.utils import jupyter_render_animation as render"
   ]
  },
  {
   "cell_type": "markdown",
   "metadata": {
    "tags": [
     "remove-input"
    ]
   },
   "source": [
    "```{tip}\n",
    "Download this tutorial as a {download}`Jupyter notebook <converted/mask.ipynb>`, or as a {download}`python script <converted/mask.py>` with code cells. We highly recommend using [Visual Studio Code](#vscode) to execute this tutorial.\n",
    "```"
   ]
  },
  {
   "cell_type": "markdown",
   "metadata": {},
   "source": [
    "# Tutorial 4: Working with Image Masks\n",
    "\n",
    "This tutorial explains how to work with masks in `optimap` to select regions of interest in images and videos. Masks are powerful tools for isolating specific areas for analysis, ignoring irrelevant parts of an image, and extracting meaningful data from your recordings.\n",
    "\n",
    "## What are Masks?\n",
    "\n",
    "In `optimap`, masks are binary (boolean) arrays where:\n",
    "- `True` values indicate pixels that belong to your region of interest\n",
    "- `False` values indicate pixels that should be ignored or considered as background\n",
    "\n",
    "Masks are commonly used to:\n",
    "- Focus analysis only on tissue regions\n",
    "- Exclude noisy borders or artifacts\n",
    "- Separate specific anatomical regions (e.g., atria from ventricles)\n",
    "- Remove background areas that might skew calculations\n",
    "\n",
    "## Getting Started: Loading Example Data\n",
    "\n",
    "Let's begin by loading an example video and extracting a single frame to work with:"
   ]
  },
  {
   "cell_type": "code",
   "execution_count": null,
   "metadata": {
    "tags": []
   },
   "outputs": [],
   "source": [
    "import optimap as om\n",
    "import numpy as np\n",
    "import matplotlib.pyplot as plt\n",
    "\n",
    "filepath = om.download_example_data('VF_Rabbit_1_warped.npy')\n",
    "video_warped = om.load_video(filepath)\n",
    "\n",
    "frame = video_warped[0]  # First frame for creating our masks"
   ]
  },
  {
   "cell_type": "markdown",
   "metadata": {},
   "source": [
    "## 1. Creating Masks\n",
    "\n",
    "`optimap` provides several methods to create masks, from automatic detection to manual drawing. Let's explore each approach.\n",
    "\n",
    "### Automatic Mask Creation with Thresholding\n",
    "\n",
    "The simplest way to create masks is through automatic thresholding, which separates bright regions (usually tissue) from dark regions (usually background). `optimap` provides two key functions for this:\n",
    "\n",
    "- {func}`image.background_mask`: Creates a mask of background areas (typically darker regions)\n",
    "- {func}`image.foreground_mask`: Creates a mask of foreground areas (typically brighter regions)\n",
    "\n",
    "These functions use the GHT algorithm {cite}`Barron2020` to automatically determine the optimal threshold:"
   ]
  },
  {
   "cell_type": "code",
   "execution_count": null,
   "metadata": {},
   "outputs": [],
   "source": [
    "# Create a background mask (True for background pixels)\n",
    "background_mask = om.background_mask(frame, title='Automatic background mask')\n",
    "\n",
    "# Save the mask for later use\n",
    "om.save_mask('background_mask.png', background_mask)"
   ]
  },
  {
   "cell_type": "markdown",
   "metadata": {},
   "source": [
    "In the visualization above, background pixels (True values) are highlighted in red. The function automatically determined a threshold value to separate background from tissue.\n",
    "\n",
    "If the automatic threshold doesn't work well for your image, you can manually specify a threshold value:"
   ]
  },
  {
   "cell_type": "code",
   "execution_count": null,
   "metadata": {},
   "outputs": [],
   "source": [
    "# Create a foreground mask with manual threshold (True for foreground/tissue pixels)\n",
    "foreground_mask = om.foreground_mask(frame, threshold=500, title='Manual threshold foreground mask')"
   ]
  },
  {
   "cell_type": "markdown",
   "metadata": {},
   "source": [
    "### Interactive Mask Drawing\n",
    "\n",
    "For more complex regions that can't be captured by simple thresholding, `optimap` provides an interactive drawing tool with {func}`image.interactive_mask`. This is especially useful when you need to select specific anatomical regions:"
   ]
  },
  {
   "cell_type": "code",
   "execution_count": null,
   "metadata": {
    "tags": [
     "skip-execution"
    ]
   },
   "outputs": [],
   "source": [
    "# Start with the foreground mask and refine it manually\n",
    "manual_mask = om.interactive_mask(frame, initial_mask=foreground_mask)"
   ]
  },
  {
   "cell_type": "markdown",
   "metadata": {},
   "source": [
    "When you run this code, an interactive window appears where you can draw and edit the mask:\n",
    "\n",
    "<img align=\"center\" width=\"400\" src=\"https://cardiacvision.ucsf.edu/sites/g/files/tkssra6821/f/optimap%20tutorials%20mask%201.png\">\n",
    "\n",
    "<img align=\"center\" width=\"400\" src=\"https://cardiacvision.ucsf.edu/sites/g/files/tkssra6821/f/optimap%20tutorials%20mask%202.png\">\n",
    "\n",
    "The following table lists the available keybindings and mouse actions for the interactive mask tool:\n",
    "\n",
    "| Key/Mouse           | Action                    |\n",
    "|---------------------|---------------------------|\n",
    "| `Scroll`            | Zoom in/out               |\n",
    "| `ctrl+z` or `cmd+z` | Undo                      |\n",
    "| `ctrl+y` or `cmd+y` | Redo                      |\n",
    "| `d`                 | Draw/Lasso mode           |\n",
    "| `e`                 | Erase mode                |\n",
    "| `v`                 | Toggle mask visibility    |\n",
    "| `i`                 | Invert mask               |\n",
    "| `q`                 | Quit and return the mask  |\n",
    "\n",
    "### Saving and Loading Masks\n",
    "\n",
    "Once you've created a mask, you can save it for future use:"
   ]
  },
  {
   "cell_type": "code",
   "execution_count": null,
   "metadata": {
    "tags": [
     "remove-input",
     "remove-output"
    ]
   },
   "outputs": [],
   "source": [
    "fn = om.download_example_data('VF_Rabbit_1_warped_mask.npy', silent=True)\n",
    "manual_mask = om.load_mask(fn)"
   ]
  },
  {
   "cell_type": "code",
   "execution_count": null,
   "metadata": {},
   "outputs": [],
   "source": [
    "# Save a mask with the original image for context\n",
    "om.save_mask(\"custom_mask.png\", manual_mask, image=frame)\n",
    "\n",
    "# Load the mask back\n",
    "loaded_mask = om.load_mask(\"custom_mask.png\")\n",
    "\n",
    "# Visualize the mask\n",
    "om.show_mask(manual_mask, image=frame, title='Manual mask');"
   ]
  },
  {
   "cell_type": "markdown",
   "metadata": {},
   "source": [
    "Including the `image` parameter when saving masks embeds the image as context, which is useful for editing in external programs like [GIMP](https://gimp.org). The mask is stored as the alpha channel of the image.\n",
    "\n",
    "### Creating Masks Programmatically\n",
    "\n",
    "You can also create masks using NumPy operations for more complex or algorithmic approaches:\n",
    "\n",
    "```python\n",
    "# Create a circular mask\n",
    "circle_mask = om.image.disc_mask(frame.shape, center=(100, 150), radius=50)\n",
    "\n",
    "# Combine masks with boolean operations\n",
    "combined_mask = foreground_mask & circle_mask  # Intersection (AND)\n",
    "union_mask = foreground_mask | circle_mask     # Union (OR)\n",
    "```\n",
    "\n",
    "## 2. Refining Masks\n",
    "\n",
    "Raw masks often need refinement to be truly useful. `optimap` provides several functions to clean up and adjust masks.\n",
    "\n",
    "### Morphological Operations: Erosion and Dilation\n",
    "\n",
    "These operations shrink or expand the mask boundaries:"
   ]
  },
  {
   "cell_type": "code",
   "execution_count": null,
   "metadata": {},
   "outputs": [],
   "source": [
    "# Use the inverted manual mask for these examples\n",
    "mask = np.logical_not(manual_mask)  # Invert mask to select the ventricles\n",
    "\n",
    "fig, axs = plt.subplots(1, 3, figsize=(15, 5))\n",
    "\n",
    "# Create eroded and dilated versions of the mask\n",
    "dilated = om.image.dilate_mask(mask, iterations=10, show=False)  # Expand borders\n",
    "eroded = om.image.erode_mask(mask, iterations=10, border_value=True, show=False)  # Shrink borders\n",
    "\n",
    "# Display all three for comparison\n",
    "om.show_mask(mask, image=frame, ax=axs[0], title='Original')\n",
    "om.show_mask(eroded, image=frame, ax=axs[1], title='Eroded (shrunk)')\n",
    "om.show_mask(dilated, image=frame, ax=axs[2], title='Dilated (expanded)')\n",
    "\n",
    "plt.tight_layout()\n",
    "plt.show()"
   ]
  },
  {
   "cell_type": "markdown",
   "metadata": {},
   "source": [
    "### Filling Holes and Finding the Largest Component\n",
    "\n",
    "Masks sometimes contain unwanted holes or isolated small regions. These functions help clean them up:\n",
    "\n",
    "Use {func}`image.fill_mask` to fill holes in the mask, to keep only the largest connected component (island) of the mask use {func}`image.largest_mask_component`. The {func}`image.largest_mask_component` function also has a invert argument to invert the mask before selecting the largest component (e.g. to keep the largest hole in the mask when working with background masks)."
   ]
  },
  {
   "cell_type": "code",
   "execution_count": null,
   "metadata": {},
   "outputs": [],
   "source": [
    "# Create a mask with holes and isolated small regions for demonstration\n",
    "mask = om.foreground_mask(frame, threshold=1800, show=False)\n",
    "\n",
    "fig, axs = plt.subplots(1, 3, figsize=(15, 5))\n",
    "\n",
    "# Show original mask\n",
    "om.show_mask(mask, image=frame, title='Original with holes', ax=axs[0])\n",
    "\n",
    "# Fill enclosed holes\n",
    "om.image.fill_mask(mask, image=frame, title='Filled holes', ax=axs[1])\n",
    "\n",
    "# Keep only the largest connected region\n",
    "om.image.largest_mask_component(mask, image=frame, title='Largest component only', ax=axs[2])\n",
    "\n",
    "plt.tight_layout()\n",
    "plt.show()"
   ]
  },
  {
   "cell_type": "markdown",
   "metadata": {},
   "source": [
    "### Advanced Morphological Operations: Opening and Closing\n",
    "\n",
    "These operations combine erosion and dilation to achieve more sophisticated results:\n",
    "\n",
    "- **Opening** (erosion followed by dilation): Removes small protrusions and isolated regions\n",
    "- **Closing** (dilation followed by erosion): Fills small holes and connects nearby regions\n",
    "\n",
    "See the [scipy documentation](https://docs.scipy.org/doc/scipy/tutorial/ndimage.html#morphology) for more information on morphological operations."
   ]
  },
  {
   "cell_type": "code",
   "execution_count": null,
   "metadata": {},
   "outputs": [],
   "source": [
    "# Create a new demonstration mask\n",
    "mask = om.foreground_mask(frame, threshold=1400, show=False)\n",
    "\n",
    "fig, axs = plt.subplots(1, 3, figsize=(15, 5))\n",
    "\n",
    "# Show original mask\n",
    "om.show_mask(mask, image=frame, title='Original', ax=axs[0])\n",
    "\n",
    "# Apply opening (erosion then dilation)\n",
    "om.image.open_mask(mask, iterations=10, image=frame, ax=axs[1], title='Opening (removes small features)')\n",
    "\n",
    "# Apply closing (dilation then erosion)\n",
    "om.image.close_mask(mask, iterations=10, image=frame, ax=axs[2], title='Closing (fills small holes)')\n",
    "\n",
    "plt.tight_layout()\n",
    "plt.show()"
   ]
  },
  {
   "cell_type": "markdown",
   "metadata": {},
   "source": [
    "## 3. Applying Masks to Data\n",
    "\n",
    "Now that we've created and refined masks, let's see how to apply them to our video data. There are several ways to use masks:\n",
    "\n",
    "### Excluding Regions from Analysis\n",
    "\n",
    "A common use case is to exclude background or uninteresting regions from analysis by setting them to NaN:"
   ]
  },
  {
   "cell_type": "code",
   "execution_count": null,
   "metadata": {},
   "outputs": [],
   "source": [
    "# Create a refined mask - here we're choosing to slightly expand our manual mask \n",
    "# to ensure we fully cover the region we want to exclude\n",
    "mask = om.image.dilate_mask(manual_mask, iterations=2, image=frame, show=False)\n",
    "\n",
    "# Convert video to float type (required for NaN values) if not already\n",
    "video_masked = video_warped.astype(np.float32).copy()\n",
    "\n",
    "# Set masked regions to NaN - they will be ignored in calculations\n",
    "video_masked[:, mask] = np.nan\n",
    "\n",
    "# View the resulting video with masked regions\n",
    "print(\"Video with masked regions set to NaN:\")"
   ]
  },
  {
   "cell_type": "code",
   "execution_count": null,
   "metadata": {
    "tags": [
     "skip-execution"
    ]
   },
   "outputs": [],
   "source": [
    "om.show_video(video_masked)"
   ]
  },
  {
   "cell_type": "code",
   "execution_count": null,
   "metadata": {
    "tags": [
     "remove-input"
    ]
   },
   "outputs": [],
   "source": [
    "render(lambda: om.show_video(video_masked))"
   ]
  },
  {
   "cell_type": "markdown",
   "metadata": {},
   "source": [
    "### Extracting Data from Specific Regions\n",
    "\n",
    "You can use masks to extract data from specific regions of interest:\n",
    "\n",
    "```python\n",
    "# Extract all pixel values from a region in a single frame\n",
    "region_values = frame[region_mask]\n",
    "\n",
    "# Calculate statistics for this region\n",
    "mean_intensity = np.mean(region_values)\n",
    "std_intensity = np.std(region_values)\n",
    "```\n",
    "\n",
    "## Summary\n",
    "\n",
    "Masks are powerful tools in `optimap` that allow you to:\n",
    "- Isolate regions of interest using automatic, interactive, or programmatic methods\n",
    "- Refine masks through morphological operations like erosion, dilation, filling holes\n",
    "- Apply masks to exclude irrelevant regions or focus analysis on specific areas\n",
    "\n",
    "With these techniques, you can achieve more accurate and targeted analysis of your optical mapping data by focusing only on the regions that matter for your research question."
   ]
  }
 ],
 "metadata": {
  "kernelspec": {
   "display_name": ".venv",
   "language": "python",
   "name": "python3"
  },
  "language_info": {
   "codemirror_mode": {
    "name": "ipython",
    "version": 3
   },
   "file_extension": ".py",
   "mimetype": "text/x-python",
   "name": "python",
   "nbconvert_exporter": "python",
   "pygments_lexer": "ipython3",
   "version": "3.13.2"
  },
  "test_name": "notebook1"
 },
 "nbformat": 4,
 "nbformat_minor": 2
}
