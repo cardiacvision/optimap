{
 "cells": [
  {
   "cell_type": "markdown",
   "metadata": {
    "tags": [
     "remove-input"
    ]
   },
   "source": [
    "```{currentmodule} optimap\n",
    "```"
   ]
  },
  {
   "cell_type": "code",
   "execution_count": null,
   "metadata": {
    "tags": [
     "remove-input",
     "remove-output"
    ]
   },
   "outputs": [],
   "source": [
    "# Code snippet for rendering animations in the docs\n",
    "from IPython.display import HTML\n",
    "import warnings\n",
    "import matplotlib\n",
    "matplotlib.rcParams['animation.embed_limit'] = 2**128\n",
    "import matplotlib.pyplot as plt\n",
    "\n",
    "def render_ani_func(f):\n",
    "    om.utils.disable_interactive_backend_switching()\n",
    "    plt.switch_backend('Agg')\n",
    "    with warnings.catch_warnings():\n",
    "        warnings.simplefilter(\"ignore\")\n",
    "        ani = f()\n",
    "    %matplotlib inline\n",
    "    om.utils.enable_interactive_backend_switching()\n",
    "\n",
    "    vid = HTML(ani.to_html5_video())\n",
    "    plt.close('all')\n",
    "    return vid"
   ]
  },
  {
   "cell_type": "markdown",
   "metadata": {
    "tags": [
     "remove-input"
    ]
   },
   "source": [
    "```{tip}\n",
    "Download this tutorial as a {download}`Jupyter notebook <converted/phase.ipynb>`, or a {download}`python script <converted/phase.py>` with code cells. We highly recommend using [Visual Studio Code](#vscode) to execute this tutorial.\n",
    "```"
   ]
  },
  {
   "cell_type": "markdown",
   "metadata": {},
   "source": [
    "# Tutorial 7: Phase and Singularities during VF\n",
    "\n",
    "In this tutorial, we will learn how to compute phase maps of action potential vortex waves during ventricular fibrillation (VF). Using the phase maps, we will compute and track phase singularities across the epicardial surface of an isolated intact rabbit heart during VF. Phase singularities (PS) indicate rotational core regions of reentrant vortex waves (spiral waves) and can be used to characterize the complexity of VF or interactions of reentrant waves with tissue. For example, a higher number of PS can indicate more aggresive episodes of VF, moving PS are associated with meandering spiral waves, and PS can attach to scar tissue. `optimap` provides all routines which are necessary to compute phase videos from raw optical mapping videos, filter phase videos and calculate and track phase singularities. Similar analysis was performed in {footcite:t}`Christoph2018,Lebert2021` among many other publications.\n",
    "\n",
    "We will use the example file from [Tutorial 1](basics.ipynb) and first compensate the residual contractile motion to work with a video without motion. Alternatively, you could use one of your own recordings obtained with a motion-uncoupled heart pharmacologically arrested with Blebbistatin. The following lines of code load the raw video and compute a pixel-wise normalized motion-stabilized video:"
   ]
  },
  {
   "cell_type": "code",
   "execution_count": null,
   "metadata": {},
   "outputs": [],
   "source": [
    "import optimap as om\n",
    "import numpy as np\n",
    "\n",
    "filepath = om.utils.retrieve_example_data('Example_02_VF_Rabbit_Di-4-ANEPPS_Basler_acA720-520um.npy')\n",
    "# alterantively set filepath = '/folder_on_your_computer/Example_02_VF_Rabbit_Di-4-ANEPPS_Basler_acA720-520um.npy'\n",
    "video = om.load_video(filepath)\n",
    "video_warped = om.motion_compensate(video,\n",
    "                              contrast_kernel=5,\n",
    "                              presmooth_spatial=1,\n",
    "                              presmooth_temporal=1)\n",
    "\n",
    "video_warped_normalized = om.video.normalize_pixelwise_slidingwindow(video_warped, window_size=60)\n",
    "\n",
    "#del video, video_warped"
   ]
  },
  {
   "cell_type": "markdown",
   "metadata": {},
   "source": [
    "The pixel-wise normalized motion-stabilized video displays action potential vortex waves as black waves (when using a black-and-white colormap):"
   ]
  },
  {
   "cell_type": "code",
   "execution_count": null,
   "metadata": {
    "tags": [
     "skip-execution"
    ]
   },
   "outputs": [],
   "source": [
    "om.video.play(video_warped_normalized, interval=40);"
   ]
  },
  {
   "cell_type": "code",
   "execution_count": null,
   "metadata": {
    "tags": [
     "remove-input"
    ]
   },
   "outputs": [],
   "source": [
    "render_ani_func(lambda: om.video.play(video_warped_normalized, interval=40))"
   ]
  },
  {
   "cell_type": "markdown",
   "metadata": {},
   "source": [
    "Next, we will first compute and display a phase video from the pixel-wise normalized video. Alternatively to a pixel-wise normalized video one could also compute phase maps using a frame-wise differentiated video. We will then smooth the phase video using phase-specific spatio-temporal phase smoothing filters. Lastly, we will calculate and track phase singularities through the video image over time.\n",
    "\n",
    "```{warning}\n",
    "This tutorial is currently work in progress. We will add more information soon.\n",
    "```"
   ]
  },
  {
   "cell_type": "markdown",
   "metadata": {},
   "source": [
    "## Computing Phase Videos\n",
    "\n",
    "In order to compute a phase video, the optical signals need to fluctuate around 0. Because we already normalized the signals to be between [0,1] we only need to subtract 0.5 from the video and accordingly. `optimap` does  first need to \n",
    "\n",
    "We can use `optimap`'s built-in om.compute_phase()"
   ]
  },
  {
   "cell_type": "code",
   "execution_count": null,
   "metadata": {},
   "outputs": [],
   "source": [
    "mask = om.background_mask(video_warped[0])\n",
    "video_warped_normalized[:, mask] = 1.0"
   ]
  },
  {
   "cell_type": "markdown",
   "metadata": {},
   "source": [
    "Further reading:\n",
    "\n",
    "```{footbibliography}\n",
    "```"
   ]
  }
 ],
 "metadata": {
  "kernelspec": {
   "display_name": "Python 3 (ipykernel)",
   "language": "python",
   "name": "python3"
  },
  "language_info": {
   "codemirror_mode": {
    "name": "ipython",
    "version": 3
   },
   "file_extension": ".py",
   "mimetype": "text/x-python",
   "name": "python",
   "nbconvert_exporter": "python",
   "pygments_lexer": "ipython3",
   "version": "3.9.9"
  },
  "test_name": "notebook1"
 },
 "nbformat": 4,
 "nbformat_minor": 2
}
