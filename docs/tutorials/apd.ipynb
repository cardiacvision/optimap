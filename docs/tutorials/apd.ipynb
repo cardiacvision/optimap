{
 "cells": [
  {
   "cell_type": "markdown",
   "metadata": {
    "tags": [
     "remove-input"
    ]
   },
   "source": [
    "```{currentmodule} optimap\n",
    "```"
   ]
  },
  {
   "cell_type": "code",
   "execution_count": null,
   "metadata": {
    "tags": [
     "remove-input",
     "remove-output"
    ]
   },
   "outputs": [],
   "source": [
    "# Code snippet for rendering animations in the docs\n",
    "from IPython.display import HTML\n",
    "import warnings\n",
    "import matplotlib.pyplot as plt\n",
    "\n",
    "def render_ani_func(f):\n",
    "    om.utils.disable_interactive_backend_switching()\n",
    "    plt.switch_backend('Agg')\n",
    "    with warnings.catch_warnings():\n",
    "        warnings.simplefilter(\"ignore\")\n",
    "        ani = f()\n",
    "        ani.repeat = True\n",
    "    %matplotlib inline\n",
    "    om.utils.enable_interactive_backend_switching()\n",
    "\n",
    "    vid = HTML(ani.to_html5_video(embed_limit=2**128))\n",
    "    plt.close('all')\n",
    "    return vid"
   ]
  },
  {
   "cell_type": "markdown",
   "metadata": {
    "tags": [
     "remove-input"
    ]
   },
   "source": [
    "```{tip}\n",
    "Download this tutorial as a {download}`Jupyter notebook <converted/apd.ipynb>`, or as a {download}`python script <converted/apd.py>` with code cells. We highly recommend using [Visual Studio Code](#vscode) to execute this tutorial.\n",
    "```"
   ]
  },
  {
   "cell_type": "markdown",
   "metadata": {},
   "source": [
    "# Tutorial 8: Action Potential Duration\n",
    "\n",
    "This tutorial discusses how to compute action potential durations (APDs) and APD maps from cardiac optical mapping data using ``optimap``. The routines include detecting action potential upstrokes and repolarization times and can also be used to compute calcium transient durations (CaTDs) or CaTD maps. In addition, we will also compute APD and CaTD histograms.\n",
    "\n",
    "First, we will load a voltage- and calcium-sensitive optical mapping recording, see [Example Data Files](example_files.ipynb) for more information, and extract the two channels/videos from the recording:"
   ]
  },
  {
   "cell_type": "code",
   "execution_count": null,
   "metadata": {
    "tags": []
   },
   "outputs": [],
   "source": [
    "import optimap as om\n",
    "\n",
    "filename = om.download_example_data(\"Dualchannel_1.npy\")\n",
    "\n",
    "video_voltage = om.load_video(filename, start_frame=0, step=2)  # even frames\n",
    "video_calcium = om.load_video(filename, start_frame=1, step=2)  # odd frames\n",
    "\n",
    "om.print_properties(video_voltage)\n",
    "om.print_properties(video_calcium)"
   ]
  },
  {
   "cell_type": "markdown",
   "metadata": {},
   "source": [
    "You can plot optical traces interactively as follows:"
   ]
  },
  {
   "cell_type": "code",
   "execution_count": null,
   "metadata": {
    "tags": [
     "skip-execution"
    ]
   },
   "outputs": [],
   "source": [
    "traces, positions = om.select_traces(video_voltage, size=3, fps=1000)"
   ]
  },
  {
   "cell_type": "markdown",
   "metadata": {},
   "source": [
    "or define a position or multiple positions and then display the corresponding optical traces manually."
   ]
  },
  {
   "cell_type": "code",
   "execution_count": null,
   "metadata": {},
   "outputs": [],
   "source": [
    "position = [(51, 61)]\n",
    "# positions = [(51, 61), (50, 70)]"
   ]
  },
  {
   "cell_type": "markdown",
   "metadata": {},
   "source": [
    "The action potential trace looks as follows:"
   ]
  },
  {
   "cell_type": "code",
   "execution_count": null,
   "metadata": {},
   "outputs": [],
   "source": [
    "trace_v = om.extract_traces(video_voltage, position, size=3, show=True, fps=1000)"
   ]
  },
  {
   "cell_type": "markdown",
   "metadata": {},
   "source": [
    "The calcium trace looks as follows:"
   ]
  },
  {
   "cell_type": "code",
   "execution_count": null,
   "metadata": {},
   "outputs": [],
   "source": [
    "trace_ca = om.extract_traces(video_calcium, position, size=3, show=True, fps=1000)"
   ]
  },
  {
   "cell_type": "markdown",
   "metadata": {},
   "source": [
    "In order to plot the voltage and calcium traces in the same graph, we need to normalize the data:"
   ]
  },
  {
   "cell_type": "code",
   "execution_count": null,
   "metadata": {},
   "outputs": [],
   "source": [
    "video_voltage_norm = om.video.normalize_pixelwise(video_voltage)\n",
    "video_voltage_norm = video_voltage_norm*-1.0+1.0 # switch the polarity of the voltage data\n",
    "video_calcium_norm = om.video.normalize_pixelwise(video_calcium)*0.65 # arbitrary scaling factor to match the action potentials (there is no absolute value of the signals)"
   ]
  },
  {
   "cell_type": "markdown",
   "metadata": {},
   "source": [
    "The comparison reveals a slight delay in the calcium transient:"
   ]
  },
  {
   "cell_type": "code",
   "execution_count": null,
   "metadata": {},
   "outputs": [],
   "source": [
    "t1 = 50\n",
    "t2 = 350\n",
    "trace_v_ca = om.compare_traces([video_voltage_norm, video_calcium_norm*0.7], position, size=3, fps=1000)\n",
    "trace_v_ca_closeup = om.compare_traces([video_voltage_norm[t1:t2], video_calcium_norm[t1:t2]], position, size=3, fps=1000)"
   ]
  },
  {
   "cell_type": "markdown",
   "metadata": {},
   "source": [
    "In this recording, the action potential exhibits the characteristic notch during the depolarization phase. The notch is often not visible in cardiac optical mapping data and ``optimap`` will by default assume that there is no notch. This is relevant when computing action potential durations (APDs) for certain heights of the action potential (e.g. APD50 at 50% of the height of the action potential). Here, we normalize the trace with clipping (``vmax=0.58``) to remove the notch: "
   ]
  },
  {
   "cell_type": "code",
   "execution_count": null,
   "metadata": {},
   "outputs": [],
   "source": [
    "trace_v_norm = om.trace.normalize(trace_v)\n",
    "trace_v_norm = om.trace.normalize(1-trace_v_norm,vmax=0.58)\n",
    "\n",
    "om.show_traces(trace_v_norm)"
   ]
  },
  {
   "cell_type": "markdown",
   "metadata": {},
   "source": [
    "```{warning}\n",
    "This tutorial is currently in preparation. We will add more information soon.\n",
    "```"
   ]
  }
 ],
 "metadata": {
  "kernelspec": {
   "display_name": "Python 3 (ipykernel)",
   "language": "python",
   "name": "python3"
  },
  "language_info": {
   "codemirror_mode": {
    "name": "ipython",
    "version": 3
   },
   "file_extension": ".py",
   "mimetype": "text/x-python",
   "name": "python",
   "nbconvert_exporter": "python",
   "pygments_lexer": "ipython3",
   "version": "3.9.9"
  },
  "test_name": "notebook1"
 },
 "nbformat": 4,
 "nbformat_minor": 2
}
