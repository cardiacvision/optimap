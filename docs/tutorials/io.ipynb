{
 "cells": [
  {
   "cell_type": "markdown",
   "metadata": {
    "tags": [
     "remove-input"
    ]
   },
   "source": [
    "```{currentmodule} optimap\n",
    "```"
   ]
  },
  {
   "cell_type": "code",
   "execution_count": null,
   "metadata": {
    "tags": [
     "remove-input",
     "remove-output"
    ]
   },
   "outputs": [],
   "source": [
    "# Code snippet for rendering animations in the docs\n",
    "from IPython.display import HTML\n",
    "import warnings\n",
    "import matplotlib\n",
    "matplotlib.rcParams['animation.embed_limit'] = 2**128\n",
    "\n",
    "def render_ani_func(f):\n",
    "    om.utils.disable_interactive_backend_switching()\n",
    "    plt.switch_backend('Agg')\n",
    "    with warnings.catch_warnings():\n",
    "        warnings.simplefilter(\"ignore\")\n",
    "        ani = f()\n",
    "    %matplotlib inline\n",
    "    om.utils.enable_interactive_backend_switching()\n",
    "\n",
    "    vid = HTML(ani.to_html5_video())\n",
    "    plt.close('all')\n",
    "    return vid"
   ]
  },
  {
   "cell_type": "markdown",
   "metadata": {
    "tags": [
     "remove-input"
    ]
   },
   "source": [
    "```{tip}\n",
    "Download this tutorial as a {download}`Jupyter notebook <converted/smoothing.ipynb>`, or a {download}`python script <converted/smoothing.py>` with code cells.\n",
    "```"
   ]
  },
  {
   "cell_type": "markdown",
   "metadata": {},
   "source": [
    "# Tutorial 13: Import / Export (I/O)\n",
    "\n",
    "Using ``optimap`` you can import, export or convert various video or image file formats acquired with different cameras and software packages. For instance, you can load .rsh videos acquired with SciMedia cameras and save them as Matlab files using the following few lines of code:"
   ]
  },
  {
   "cell_type": "code",
   "execution_count": null,
   "metadata": {
    "tags": [
     "skip-execution"
    ]
   },
   "outputs": [],
   "source": [
    "import optimap as om\n",
    "\n",
    "video = om.load_video('filename_of_input_video.rsh')\n",
    "video = video[:100] # store only the first 100 frames, optional\n",
    "om.video.save_video('video.mat', video)"
   ]
  },
  {
   "cell_type": "markdown",
   "metadata": {},
   "source": [
    "Many more file formats can be imported, saved or exported. More detailed instructions are provided below. To test whether you can load your own example video file (e.g. an .rsh file), make sure that the video is located in the appropriate folder, copy and paste the code above into a python script, modify the filename to match your filename and execute the script.\n",
    "\n",
    "## Importing Videos\n",
    "\n",
    "The following file formats can be imported with ``optimap``:\n",
    "\n",
    "* .tif, .tiff (TIFF)\n",
    "* .png (PNG)\n",
    "* .gsd, .gsh (SciMedia MiCAM 05)\n",
    "* .rsh, .rsm, .rsd (SciMedia MiCAM ULTIMA)\n",
    "* .dat (MultiRecorder)\n",
    "* .npy (numpy array)\n",
    "* .mat (MATLAB), loads the first field in the file\n",
    "\n",
    "Additional file formats will be added in the future (and upon request). All files can be imported using the same {func}`load_video` function, with which it is also possible to load only a specific number of frames or range of the data (e.g. from a specific frame to another), see below. \n",
    "\n",
    "### TIFF Images\n",
    "\n",
    "``optimap`` can read .tif / .tiff (TIFF) saved as an image stack (a single file) or an image series in a folder (8-bit and 16-bit). Simply provide the filename with the .tif or .tiff ending to load a single TIFF stack:"
   ]
  },
  {
   "cell_type": "code",
   "execution_count": null,
   "metadata": {
    "tags": [
     "skip-execution"
    ]
   },
   "outputs": [],
   "source": [
    "video = om.load_video('filename.tif')"
   ]
  },
  {
   "cell_type": "markdown",
   "metadata": {},
   "source": [
    "or the name of the folder containing the images to load a series of .tif images:"
   ]
  },
  {
   "cell_type": "code",
   "execution_count": null,
   "metadata": {
    "tags": [
     "skip-execution"
    ]
   },
   "outputs": [],
   "source": [
    "video = om.load_video('folder_containing_tif_images/')"
   ]
  },
  {
   "cell_type": "markdown",
   "metadata": {},
   "source": [
    "### PNG Images\n",
    "\n",
    "``optimap`` can read a series of .png (PNG) images stored in a folder. Simply provide the name of the folder containing the image series."
   ]
  },
  {
   "cell_type": "code",
   "execution_count": null,
   "metadata": {
    "tags": [
     "skip-execution"
    ]
   },
   "outputs": [],
   "source": [
    "video = om.load_video('folder_containing_png_images/')"
   ]
  },
  {
   "cell_type": "markdown",
   "metadata": {},
   "source": [
    "### SciMedia\n",
    "\n",
    "``optimap`` can read the different SciMedia file formats, including video files acquired with single- and dual-camera systems. To import Scimedia MiCAM ULTIMA video files you only need to provide the filename with the .rsh ending of the header file (assuming it is located in the same location as the .rsd files):"
   ]
  },
  {
   "cell_type": "code",
   "execution_count": null,
   "metadata": {
    "tags": [
     "skip-execution"
    ]
   },
   "outputs": [],
   "source": [
    "video = om.load_video('filename.rsh')"
   ]
  },
  {
   "cell_type": "markdown",
   "metadata": {},
   "source": [
    "To import Scimedia MiCAM 05 video files you only need to provide the filename with the .gsh ending of the header file:"
   ]
  },
  {
   "cell_type": "code",
   "execution_count": null,
   "metadata": {
    "tags": [
     "skip-execution"
    ]
   },
   "outputs": [],
   "source": [
    "video = om.load_video('filename.gsh')"
   ]
  },
  {
   "cell_type": "markdown",
   "metadata": {},
   "source": [
    "### MultiRecorder\n",
    "\n",
    "``optimap`` can import .dat video files acquired with MultiRecorder (developed by J. Schröder-Schetelig, Max Planck Institute for Dynamics and Self-Organization)."
   ]
  },
  {
   "cell_type": "code",
   "execution_count": null,
   "metadata": {
    "tags": [
     "skip-execution"
    ]
   },
   "outputs": [],
   "source": [
    "video = om.load_video('filename.dat')"
   ]
  },
  {
   "cell_type": "markdown",
   "metadata": {},
   "source": [
    "### Numpy\n",
    "\n",
    "Videos stored as numpy arrays can easily be imported using:"
   ]
  },
  {
   "cell_type": "code",
   "execution_count": null,
   "metadata": {
    "tags": [
     "skip-execution"
    ]
   },
   "outputs": [],
   "source": [
    "video = om.load_video('filename.npy')"
   ]
  },
  {
   "cell_type": "markdown",
   "metadata": {},
   "source": [
    "### Matlab\n",
    "\n",
    "Videos stored as arrays in the Matlab file format (.mat) can easily be imported using:"
   ]
  },
  {
   "cell_type": "code",
   "execution_count": null,
   "metadata": {
    "tags": [
     "skip-execution"
    ]
   },
   "outputs": [],
   "source": [
    "video = om.load_video('filename.mat')"
   ]
  },
  {
   "cell_type": "markdown",
   "metadata": {},
   "source": [
    "It is possible to import only parts of a video, for instance, only 1000 frames and only every 2nd frame starting from frame 100:"
   ]
  },
  {
   "cell_type": "code",
   "execution_count": null,
   "metadata": {
    "tags": [
     "skip-execution"
    ]
   },
   "outputs": [],
   "source": [
    "video = om.load_video('filename.npy', start_frame=100, frames=1000, step=2, use_mmap=False)"
   ]
  },
  {
   "cell_type": "markdown",
   "metadata": {},
   "source": [
    "This option is available for all file formats including image series. Please refer to the Documentation for more information.\n",
    "\n",
    "## Saving / Exporting Videos\n",
    "\n",
    "The following file formats can be saved / exported with ``optimap``:\n",
    "\n",
    "* videos as raw data (numpy or Matlab arrays)\n",
    "* rendered videos (e.g. .mp4 videos)\n",
    "* images as raw data (numpy or Matlab arrays)\n",
    "* multiple videos rendered next to each other (e.g. .mp4 videos)\n",
    "* image sequences in a folder\n",
    "\n",
    "``optimap`` distinguishes saving and exporting files. Saving files saves them as raw data (e.g. three-dimensional arrays), while exporting renders videos for visualization purposes (such as a .mp4 file). Saving videos prevents data loss (e.g. floating point or integer precision is preserved) and one can reload and continue to process the saved videos later. Exporting data is associated with data loss (e.g. loss of floating point precision) and compression because the video is rendered using a video encoder.\n",
    "\n",
    "### Saving Videos\n",
    "\n",
    "The default mode in ``optimap`` is to save videos as arrays in numpy (.npy) or Matlab (.mat) file formats. This saves the data in its rawest form without information loss:"
   ]
  },
  {
   "cell_type": "code",
   "execution_count": null,
   "metadata": {
    "tags": [
     "skip-execution"
    ]
   },
   "outputs": [],
   "source": [
    "om.save_video('video.npy',video)"
   ]
  },
  {
   "cell_type": "code",
   "execution_count": null,
   "metadata": {
    "tags": [
     "skip-execution"
    ]
   },
   "outputs": [],
   "source": [
    "om.save_video('video.mat',video)"
   ]
  },
  {
   "cell_type": "markdown",
   "metadata": {},
   "source": [
    "The videos can later be imported and further processed or used in other applications. The {func}`save_video` function preserves the data type (e.g. floating point precision).\n",
    "\n",
    "Another way to save video data is to save them as a TIFF or PNG image series in a folder (here called ``\"my_folder\"``):"
   ]
  },
  {
   "cell_type": "code",
   "execution_count": null,
   "metadata": {
    "tags": [
     "skip-execution"
    ]
   },
   "outputs": [],
   "source": [
    "om.save_image_sequence(video, filepattern=\"frame-{:04d}\", directory=\"my_folder\", suffix=\".tif\")"
   ]
  },
  {
   "cell_type": "code",
   "execution_count": null,
   "metadata": {
    "tags": [
     "skip-execution"
    ]
   },
   "outputs": [],
   "source": [
    "om.save_image_sequence(video, filepattern=\"frame-{:04d}\", directory=\"my_folder\", suffix=\".png\")"
   ]
  },
  {
   "cell_type": "markdown",
   "metadata": {},
   "source": [
    "The resulting images will have the same dimension as the video (e.g. 100x100 or 128x128 pixels). The `filepattern` can be modified, e.g. the `\"frame-\"` can be left out to obtain only zero-padded numbers (you want to change `:04d` to `:05d` if your video has more than 9999 frames). If the videos are 8- or 16-bit, then the resulting .tif or .png images will automatically be 8- or 16-bit, correspondingly. Accordingly, it is possible to prevent data loss if your raw video is 16-bit. If the images are all black, all white, show salt and pepper noise or look weird, then you need make sure that your video contains values which are normalized and formatted correctly. For instance, 8-bit videos can only contain integer values between 0-255. You can use the code snippet below to format your video data before saving it as an image series:"
   ]
  },
  {
   "cell_type": "code",
   "execution_count": null,
   "metadata": {
    "tags": [
     "skip-execution"
    ]
   },
   "outputs": [],
   "source": [
    "import numpy as np\n",
    "\n",
    "om.print_properties(video)\n",
    "video = video.astype(np.float32)\n",
    "video = (video-np.min(video))/np.max(video)*255 # alternatively *65536 for 16-bit\n",
    "om.print_properties(video)\n",
    "video = video.astype(np.uint8) # alternatively np.uint16 for 16-bit\n",
    "om.print_properties(video)"
   ]
  },
  {
   "cell_type": "markdown",
   "metadata": {},
   "source": [
    "With the normalization (the subtraction of the minimum and the division by the maximum) in the code snippet above it is ensured that no values are below 0 or above 255 (or 65536, respectively).\n",
    "\n",
    "### Video Export\n",
    "\n",
    "The main purpose of exporting videos is to generate or render videos in a file format (.mp4) that can be played with an external video player application (e.g. Quicktime, VLC, Windows Media Player etc.). You can export videos in several ways: \n",
    "\n",
    "* a single grayscale video (e.g. showing the original or normalized video)\n",
    "* a processed video (e.g. phase maps) with a special colormap (e.g. hsv, jet, magma, etc.)\n",
    "* an overlay of 2 videos on top of each other (e.g. original grayscale video plus calcium waves highlighted in a particular color)\n",
    "* multiple videos rendered next to each other (e.g. original grayscale video plus motion-stabilized video)\n",
    "\n",
    "The most straight-forward way to export a video is:"
   ]
  },
  {
   "cell_type": "code",
   "execution_count": null,
   "metadata": {
    "tags": [
     "skip-execution"
    ]
   },
   "outputs": [],
   "source": [
    "om.export_video('video.mp4', video)"
   ]
  },
  {
   "cell_type": "markdown",
   "metadata": {},
   "source": [
    "This will generate a rendered .mp4 video containing the entire video data at a framerate of 60fps and at the original resolution (e.g. 100x100 or 128x128 pixels). You can customize the video export as follows:"
   ]
  },
  {
   "cell_type": "code",
   "execution_count": null,
   "metadata": {
    "tags": [
     "skip-execution"
    ]
   },
   "outputs": [],
   "source": [
    "om.export_video(\"video.mp4\", video[123:323], fps=30, skip_frames=2, vmin=0.1, vmax=0.9, cmap=\"viridis\")"
   ]
  },
  {
   "cell_type": "markdown",
   "metadata": {},
   "source": [
    "Here, only every 2nd frame from frames 123-323 are exported at a framerate of 30fps, `vmin` and `vmax` define the dynamic range of pixel values (0.1 is black and 0.9 white with the grayscale colormap) and `viridis` is a different colormap than just a grayscale colormap.\n",
    "\n",
    "You can overlay a processed video, for instance, a pixel-wise normalized video which shows action potential or calcium waves, see [Tutorial 2](signal_extraction.ipynb), on top of the original grayscale video as follows:"
   ]
  },
  {
   "cell_type": "code",
   "execution_count": null,
   "metadata": {
    "tags": [
     "skip-execution"
    ]
   },
   "outputs": [],
   "source": [
    "video_waves = om.video.normalize_pixelwise(video)\n",
    "om.export_video_with_overlay(\"video.mp4\", video, video_waves)"
   ]
  },
  {
   "cell_type": "markdown",
   "metadata": {},
   "source": [
    "```{warning}\n",
    "This tutorial is currently work in progress. We will add more information soon.\n",
    "```"
   ]
  }
 ],
 "metadata": {
  "kernelspec": {
   "display_name": "Python 3 (ipykernel)",
   "language": "python",
   "name": "python3"
  },
  "language_info": {
   "codemirror_mode": {
    "name": "ipython",
    "version": 3
   },
   "file_extension": ".py",
   "mimetype": "text/x-python",
   "name": "python",
   "nbconvert_exporter": "python",
   "pygments_lexer": "ipython3",
   "version": "3.9.9"
  },
  "test_name": "notebook1"
 },
 "nbformat": 4,
 "nbformat_minor": 2
}
