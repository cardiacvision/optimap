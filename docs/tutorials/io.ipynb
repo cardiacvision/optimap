{
 "cells": [
  {
   "cell_type": "markdown",
   "metadata": {
    "tags": [
     "remove-input"
    ]
   },
   "source": [
    "```{currentmodule} optimap\n",
    "```"
   ]
  },
  {
   "cell_type": "code",
   "execution_count": null,
   "metadata": {
    "tags": [
     "remove-input",
     "remove-output"
    ]
   },
   "outputs": [],
   "source": [
    "# Code snippet for rendering animations in the docs\n",
    "from IPython.display import HTML\n",
    "import warnings\n",
    "import matplotlib\n",
    "matplotlib.rcParams['animation.embed_limit'] = 2**128\n",
    "\n",
    "def render_ani_func(f):\n",
    "    om.utils.disable_interactive_backend_switching()\n",
    "    plt.switch_backend('Agg')\n",
    "    with warnings.catch_warnings():\n",
    "        warnings.simplefilter(\"ignore\")\n",
    "        ani = f()\n",
    "    %matplotlib inline\n",
    "    om.utils.enable_interactive_backend_switching()\n",
    "\n",
    "    vid = HTML(ani.to_html5_video())\n",
    "    plt.close('all')\n",
    "    return vid"
   ]
  },
  {
   "cell_type": "markdown",
   "metadata": {
    "tags": [
     "remove-input"
    ]
   },
   "source": [
    "```{tip}\n",
    "Download this tutorial as a {download}`Jupyter notebook <converted/smoothing.ipynb>`, or a {download}`python script <converted/smoothing.py>` with code cells.\n",
    "```"
   ]
  },
  {
   "cell_type": "markdown",
   "metadata": {},
   "source": [
    "# Tutorial 13: Import / Export (I/O)\n",
    "\n",
    "Using ``optimap`` you can import, export or convert various video or image file formats acquired with various cameras. For instance, you can load .rsh videos acquired with SciMedia cameras and convert and save them as three-dimensional arrays as Matlab files using the following lines of code:"
   ]
  },
  {
   "cell_type": "code",
   "execution_count": null,
   "metadata": {},
   "outputs": [],
   "source": [
    "import optimap as om\n",
    "\n",
    "import_filename = 'filename_of_input_video.rsh'\n",
    "video = om.load_video(import_filename)\n",
    "video = video[:100] # store only the first 100 frames\n",
    "filename_matlab = 'video.mat'\n",
    "om.video.save_video(filename_matlab, video)"
   ]
  },
  {
   "cell_type": "markdown",
   "metadata": {},
   "source": [
    "To test whether you can load your own example video file (e.g. an .rsh file), make sure that the video is located in the appropriate folder, then copy and paste the code above into a python script, modify the filename to match your filename and execute the script. More detailed instructions are provided below.\n",
    "\n",
    "## Importing Videos\n",
    "\n",
    "The following file formats can currently be imported by ``optimap``:\n",
    "\n",
    "* .tif, .tiff (TIFF stack)\n",
    "* .dat (MultiRecorder)\n",
    "* .gsd, .gsh (SciMedia MiCAM 05)\n",
    "* .rsh, .rsm, .rsd (SciMedia MiCAM ULTIMA)\n",
    "* .npy (numpy array)\n",
    "* .mat (MATLAB), loads the first field in the file\n",
    "\n",
    "Further file formats will be added in the future (upon request). All files can be imported using the same {func}`load_video` function.\n",
    "\n",
    "To import Scimedia MiCAM ULTIMA video files you only need to provide the filename with the .rsh ending of the header file:"
   ]
  },
  {
   "cell_type": "code",
   "execution_count": null,
   "metadata": {},
   "outputs": [],
   "source": [
    "video = om.load_video('filename.rsh')"
   ]
  },
  {
   "cell_type": "markdown",
   "metadata": {},
   "source": [
    "``optimap``'s {func}`load_video` function imports video files acquired with single- as well as a dual-camera systems.\n",
    "\n",
    "To import Scimedia MiCAM 05 video files you only need to provide the filename with the .gsh ending of the header file:"
   ]
  },
  {
   "cell_type": "code",
   "execution_count": null,
   "metadata": {},
   "outputs": [],
   "source": [
    "video = om.load_video('filename.gsh')"
   ]
  },
  {
   "cell_type": "markdown",
   "metadata": {},
   "source": [
    "## Exporting Videos\n",
    "\n",
    "You can export or save raw or processed videos either as Numpy or Matlab files (arrays) or as rendered videos using the .mp4 encoder / file format. Please see examples below:\n",
    "\n"
   ]
  },
  {
   "cell_type": "markdown",
   "metadata": {},
   "source": [
    "```{warning}\n",
    "This tutorial is currently work in progress. We will add more information soon.\n",
    "```"
   ]
  }
 ],
 "metadata": {
  "kernelspec": {
   "display_name": "Python 3 (ipykernel)",
   "language": "python",
   "name": "python3"
  },
  "language_info": {
   "codemirror_mode": {
    "name": "ipython",
    "version": 3
   },
   "file_extension": ".py",
   "mimetype": "text/x-python",
   "name": "python",
   "nbconvert_exporter": "python",
   "pygments_lexer": "ipython3",
   "version": "3.9.9"
  },
  "test_name": "notebook1"
 },
 "nbformat": 4,
 "nbformat_minor": 2
}
