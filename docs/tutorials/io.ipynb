{
 "cells": [
  {
   "cell_type": "markdown",
   "metadata": {
    "tags": [
     "remove-input"
    ]
   },
   "source": [
    "```{currentmodule} optimap\n",
    "```"
   ]
  },
  {
   "cell_type": "code",
   "execution_count": null,
   "metadata": {
    "tags": [
     "remove-input",
     "remove-output"
    ]
   },
   "outputs": [],
   "source": [
    "# Code snippet for rendering animations in the docs\n",
    "from IPython.display import HTML\n",
    "import warnings\n",
    "import matplotlib.pyplot as plt\n",
    "\n",
    "def render_ani_func(f):\n",
    "    om.utils.disable_interactive_backend_switching()\n",
    "    plt.switch_backend('Agg')\n",
    "    with warnings.catch_warnings():\n",
    "        warnings.simplefilter(\"ignore\")\n",
    "        ani = f()\n",
    "        ani.repeat = True\n",
    "    %matplotlib inline\n",
    "    om.utils.enable_interactive_backend_switching()\n",
    "\n",
    "    vid = HTML(ani.to_html5_video(embed_limit=2**128))\n",
    "    plt.close('all')\n",
    "    return vid"
   ]
  },
  {
   "cell_type": "markdown",
   "metadata": {
    "tags": [
     "remove-input"
    ]
   },
   "source": [
    "```{tip}\n",
    "Download this tutorial as a {download}`Jupyter notebook <converted/io.ipynb>`, or as a {download}`python script <converted/io.py>` with code cells.\n",
    "```"
   ]
  },
  {
   "cell_type": "markdown",
   "metadata": {},
   "source": [
    "# Tutorial 13: Import / Export (I/O)\n",
    "\n",
    "Using ``optimap`` you can import, export or convert various video or image file formats acquired with different cameras and software packages. For instance, you can load `.rsh` videos acquired with SciMedia cameras and save them as Matlab files using the following few lines of code:"
   ]
  },
  {
   "cell_type": "code",
   "execution_count": null,
   "metadata": {
    "tags": [
     "skip-execution"
    ]
   },
   "outputs": [],
   "source": [
    "import optimap as om\n",
    "\n",
    "video = om.load_video(\"filename_of_input_video.rsh\")\n",
    "om.video.save_video(\"video.mat\", video)"
   ]
  },
  {
   "cell_type": "markdown",
   "metadata": {},
   "source": [
    "Many more file formats can be imported, saved or exported. More detailed instructions are provided below. To test whether you can load your own example video file (e.g. an .rsh file), make sure that the video is located in the appropriate folder, copy and paste the code above into a python script, modify the filename to match your filename and execute the script.\n",
    "\n",
    "## Importing Videos\n",
    "\n",
    "The following file formats can be imported with ``optimap``:\n",
    "\n",
    "* .tif, .tiff (TIFF) image stacks\n",
    "* Folder containing sequence of TIFF or .png (PNG) images\n",
    "* .gsd, .gsh (SciMedia MiCAM 05)\n",
    "* .rsh, .rsm, .rsd (SciMedia MiCAM ULTIMA)\n",
    "* .dat (MultiRecorder)\n",
    "* .npy (NumPy array)\n",
    "* .mat (MATLAB), loads the first field in the file\n",
    "\n",
    "Additional file formats will be added in the future (and upon request). All files can be imported using the same {func}`load_video` function, with which it is also possible to load only a specific number of frames or range of the data (e.g. from a specific frame to another), see below. \n",
    "\n",
    "````{dropdown} TIFF Stacks\n",
    ":open:\n",
    "\n",
    "``optimap`` can read .tif / .tiff (TIFF) saved as an image stack (a single file):\n",
    "\n",
    "```python\n",
    "video = om.load_video(\"example.tif\")\n",
    "```\n",
    "````\n",
    "\n",
    "\n",
    "````{dropdown} Folder of TIFF/PNG Images\n",
    "Optimap can read a series of .tif / .tiff (TIFF) or .png (PNG) images stored in a folder. Simply provide the path to folder containing the image series. 16-bit TIFF or PNG images are supported.\n",
    "    \n",
    "```python\n",
    "video = om.load_video(\"example_folder\")\n",
    "```\n",
    "\n",
    "The images filenames in the folder will be sorted in natural order (i.e `frame_2.png` comes before `frame_10.png`) and loaded in that order.\n",
    "\n",
    "If a folder contains several image series, use {func}`video.load_image_folder` instead:\n",
    "```python\n",
    "video = om.load_image_folder(\"example_folder\", prefix=\"frame_\")\n",
    "```\n",
    "where `prefix` is the common prefix of the image series filenames.\n",
    "````\n",
    "\n",
    "````{dropdown} SciMedia\n",
    "Optimap can read the different SciMedia file formats, including video files acquired with single- and dual-camera systems.\n",
    "\n",
    "To import Scimedia MiCAM ULTIMA video files provide the path to an .rsh or .rsm file:\n",
    "\n",
    "```python\n",
    "video = om.load_video(\"example.rsh\")\n",
    "```\n",
    "\n",
    "See the {class}`video.MiCAM_ULTIMA_Importer` class for more details and options.\n",
    "\n",
    "For Scimedia MiCAM 05 video files provide the path to an .gsd or .gsh file:\n",
    "\n",
    "```python\n",
    "video = om.load_video(\"example.gsh\")\n",
    "```\n",
    "\n",
    "See the {class}`video.MiCAM05_Importer` class for more details and options.\n",
    "\n",
    "For both MiCAM Ultima or MiCam 05 you can load the metadata of the video file with {func}`video.load_metadata`:\n",
    "```python\n",
    "metadata = om.load_metadata(\"example.rsh\")\n",
    "print(metadata)\n",
    "```\n",
    "````\n",
    "\n",
    "````{dropdown} MultiRecorder\n",
    "optimap can import .dat video files acquired with MultiRecorder (developed by J. Schröder-Schetelig, Max Planck Institute for Dynamics and Self-Organization).\n",
    "```python\n",
    "video = om.load_video(\"example.dat\")\n",
    "```\n",
    "\n",
    "See the {class}`video.MultiRecorderImporter` class for more details and options.\n",
    "\n",
    "The metadata of the video file can be loaded with {func}`video.load_metadata`:\n",
    "```python\n",
    "metadata = om.load_metadata(\"example.dat\")\n",
    "print(metadata)\n",
    "```\n",
    "````\n",
    "\n",
    "````{dropdown} NumPy\n",
    "Videos stored as numpy arrays can easily be imported using:\n",
    "```python\n",
    "video = om.load_video(\"example.npy\")\n",
    "```\n",
    "````\n",
    "\n",
    "````{dropdown} MATLAB\n",
    "Videos stored as arrays in the Matlab file format (.mat) can easily be imported using\n",
    "    \n",
    "```python\n",
    "video = om.load_video(\"example.mat\")\n",
    "```\n",
    "\n",
    "This will load the first field in the file. To load a specific field/variable, use the following syntax:\n",
    "\n",
    "```python\n",
    "video = om.load_video(\"example.mat\", fieldname=\"field_name\")\n",
    "```\n",
    "````"
   ]
  },
  {
   "cell_type": "markdown",
   "metadata": {},
   "source": [
    "In all cases, it is possible to import only parts of a video to reduce loading times using the following optional arguments:\n",
    "\n",
    "* `start_frame`: The first frame to load (default: 0)\n",
    "* `frames`:  Number of frames to load (default: all)\n",
    "* `step`:  Load every `step`-th frame (default: 1)\n",
    "\n",
    "For instance, load 1000 frames and only every 2nd frame starting from frame 100:"
   ]
  },
  {
   "cell_type": "code",
   "execution_count": null,
   "metadata": {
    "tags": [
     "skip-execution"
    ]
   },
   "outputs": [],
   "source": [
    "video = om.load_video(\"filename.tif\", frames=1000, step=2, start_frame=100)"
   ]
  },
  {
   "cell_type": "markdown",
   "metadata": {},
   "source": [
    "This will load frames 100, 102, 104, 106, ..., 2098.\n",
    "\n",
    "\n",
    "Some formats can be loaded using memory mapping, which can be useful to reduce memory usage or loading times when working with large or numerous video files. This is enabled by setting the `use_mmap` argument to `True`:\n",
    "```python\n",
    "video = om.load_video(\"example.npy\", use_mmap=True)\n",
    "```\n",
    "This will load the video as a read-only memory-mapped array, which means that the data is not loaded into memory until it is accessed. `use_mmap` is disabled by default and only supported for TIFF stacks, MultiRecorder .dat files and NumPy .npy files.\n",
    "\n",
    "````{note}\n",
    "Imported videos retain the same data type as the original file. For instance, 16-bit TIFF images will be loaded as 16-bit arrays, and 8-bit images as 8-bit arrays.\n",
    "\n",
    "Often it is useful to convert the data to 32-bit floating point arrays and to normalize the data to the range [0, 1]. This can be done using the {func}`video.normalize` method.\n",
    "\n",
    "```python\n",
    "video = om.load_video(\"example.tif\")\n",
    "video = om.video.normalize(video)\n",
    "```\n",
    "This will convert the video to 32-bit floating point arrays and normalize the data to the range [0, 1] based on the minimum and maximum values in the video.\n",
    "\n",
    "To specify a custom range for normalization to [0, 1], use the `vmin` and `vmax` arguments:\n",
    "\n",
    "```python\n",
    "video = om.load_video(\"example.dat\")\n",
    "# 12-bit data, normalize to [0, 1]\n",
    "video = om.video.normalize(video, vmin=0, vmax=4095)\n",
    "```\n",
    "````"
   ]
  },
  {
   "cell_type": "markdown",
   "metadata": {},
   "source": [
    "## Importing Images and Masks\n",
    "\n",
    "Individual images (.tif, .png, .jpg, .npy, ...) can be imported using {func}`load_image`:\n",
    "\n",
    "```python\n",
    "image = om.load_image(\"example.tif\")\n",
    "```\n",
    "the `as_grey` argument can be used to convert the image to a grayscale image (if it is not already).\n",
    "\n",
    "Segmentation masks can be imported using {func}`load_mask`:\n",
    "```python\n",
    "mask = om.load_mask(\"mask.png\")\n",
    "```\n",
    "See [Tutorial 3: Masking / Segmentation](/tutorials/mask) for more details on how to load, create and use masks."
   ]
  },
  {
   "cell_type": "markdown",
   "metadata": {},
   "source": [
    "## Saving / Exporting Videos\n",
    "\n",
    "The following file formats can be saved / exported with ``optimap``:\n",
    "\n",
    "* videos as raw data (TIFF stacks, NumPy or Matlab files)\n",
    "* image sequences in a folder\n",
    "* rendered videos with or without colormap (e.g. .mp4 videos)\n",
    "* multiple videos rendered next to each other\n",
    "* video rendered with overlays\n",
    "\n",
    "``optimap`` distinguishes saving and exporting files. Saving files saves them as raw data (e.g. three-dimensional arrays), while exporting renders videos for visualization purposes (such as a .mp4 file). Saving videos prevents data loss (e.g. floating point or integer precision is preserved) and one can reload and continue to process the saved videos later. Exporting data is associated with data loss (e.g. loss of floating point precision) as the recording is rendered using a video encoder.\n",
    "\n",
    "### Saving Videos\n",
    "\n",
    "The default mode in ``optimap`` is to save videos as arrays in numpy (.npy) or Matlab (.mat) file formats. This saves the data in its rawest form without information loss:"
   ]
  },
  {
   "cell_type": "code",
   "execution_count": null,
   "metadata": {
    "tags": [
     "skip-execution"
    ]
   },
   "outputs": [],
   "source": [
    "# NumPy NPY format\n",
    "om.save_video('video.npy', video)\n",
    "# TIFF image stack\n",
    "om.save_video('video.tif', video)\n",
    "# MATLAB\n",
    "om.save_video('video.mat', video)"
   ]
  },
  {
   "cell_type": "markdown",
   "metadata": {},
   "source": [
    "The videos can later be imported and further processed or used in other applications. The {func}`save_video` function preserves the data type (e.g. floating point or integer precision).\n",
    "\n",
    "Another way to save video data is to save them as a TIFF or PNG image series in a folder (here called ``\"my_folder\"``):"
   ]
  },
  {
   "cell_type": "code",
   "execution_count": null,
   "metadata": {
    "tags": [
     "skip-execution"
    ]
   },
   "outputs": [],
   "source": [
    "om.save_image_sequence(\".\", video)"
   ]
  },
  {
   "cell_type": "markdown",
   "metadata": {},
   "source": [
    "Will create files `frame_0000.png`, `frame_0001.png`, ... in the current working directory. The `prefix` argument can be used to specify a custom prefix for the filenames, and the `format` argument can be used to specify the file format (`.png` by default)."
   ]
  },
  {
   "cell_type": "code",
   "execution_count": null,
   "metadata": {
    "tags": [
     "skip-execution"
    ]
   },
   "outputs": [],
   "source": [
    "om.save_image_sequence(r\"C:\\example_directory\", video, filepattern=\"frame-{:04d}\", format=\".tif\")"
   ]
  },
  {
   "cell_type": "markdown",
   "metadata": {},
   "source": [
    "The resulting images will have the same resolution as the video. If the videos are 8- or 16-bit, then the resulting .tif or .png images will automatically be 8- or 16-bit, correspondingly. It is recommended to save your video as 16-bit to prevent data loss. If the images are all black, all white, show salt and pepper noise or look weird in any way it is likely that your video was formatted incorrectly (e.g. is an integer video even though the original video was floating point). For instance, 8-bit videos can only contain integer values between 0-255. You can use the code snippet below to format your video data before saving it as an image series:"
   ]
  },
  {
   "cell_type": "code",
   "execution_count": null,
   "metadata": {
    "tags": [
     "skip-execution"
    ]
   },
   "outputs": [],
   "source": [
    "# Convert to uint8 data type with has value range [0-255]\n",
    "video = om.video.normalize(video, dtype=\"uint8\")\n",
    "om.print_properties(video)"
   ]
  },
  {
   "cell_type": "markdown",
   "metadata": {},
   "source": [
    "With the normalization (the subtraction of the minimum and the division by the maximum) in the code snippet above it is ensured that no values are below 0 or above 255 (or 65536, respectively).\n",
    "\n",
    "### Video Export\n",
    "\n",
    "The main purpose of exporting videos is to generate or render videos in a file format (.mp4) that can be played with an external video player application (e.g. Quicktime, VLC, Windows Media Player etc.) or be included in slideshows (e.g. Powerpoint). You can export videos in several ways: \n",
    "\n",
    "* a single grayscale video (e.g. showing the original or normalized video)\n",
    "* a processed video (e.g. phase maps) with a special colormap (e.g. hsv, jet, magma, etc.)\n",
    "* an overlay of 2 videos on top of each other (e.g. original grayscale video plus calcium waves highlighted in a particular color)\n",
    "* multiple videos rendered next to each other (e.g. original grayscale video plus motion-stabilized video or original grayscale video and processed video in a different colorcode)\n",
    "\n",
    "The most straight-forward way to export a video is:"
   ]
  },
  {
   "cell_type": "code",
   "execution_count": null,
   "metadata": {
    "tags": [
     "skip-execution"
    ]
   },
   "outputs": [],
   "source": [
    "om.export_video('video.mp4', video)"
   ]
  },
  {
   "cell_type": "markdown",
   "metadata": {},
   "source": [
    "This will generate a .mp4 video file containing the entire video data at the original resolution with a display framerate of 60fps (default). You can customize the video export as follows:"
   ]
  },
  {
   "cell_type": "code",
   "execution_count": null,
   "metadata": {
    "tags": [
     "skip-execution"
    ]
   },
   "outputs": [],
   "source": [
    "om.export_video(\"video.mp4\", video[100:500], fps=30, skip_frames=2,\n",
    "                cmap=\"viridis\", vmin=0.1, vmax=0.9)"
   ]
  },
  {
   "cell_type": "markdown",
   "metadata": {},
   "source": [
    "Here, only every 2nd frame from frames 100-500 are exported to a video with a framerate of 30fps, `vmin` and `vmax` define the dynamic range of pixel values (0.1 is black and 0.9 white with the grayscale colormap) and the `viridis` colormap.\n",
    "\n",
    "You can overlay a processed video, for instance, a pixel-wise normalized video which shows action potential or calcium waves, see [Tutorial 2](signal_extraction.ipynb), on top of the original grayscale video as follows:"
   ]
  },
  {
   "cell_type": "code",
   "execution_count": null,
   "metadata": {
    "tags": [
     "skip-execution"
    ]
   },
   "outputs": [],
   "source": [
    "video_waves = om.video.normalize_pixelwise(video)\n",
    "om.video.export_video_with_overlay(\"video.mp4\", video, video_waves)"
   ]
  },
  {
   "cell_type": "markdown",
   "metadata": {},
   "source": [
    "Lastly, you can export animated plots, such as two videos in two sublots next to each other, as follows:"
   ]
  },
  {
   "cell_type": "code",
   "execution_count": null,
   "metadata": {
    "tags": [
     "skip-execution"
    ]
   },
   "outputs": [],
   "source": [
    "animated_plot = om.show_video_pair(video, video_waves, title1='Video 1', title2='Video 2')\n",
    "animated_plot.save(\"Exported Animation with 2 Videos.mp4\")\n"
   ]
  },
  {
   "cell_type": "markdown",
   "metadata": {},
   "source": [
    "You can also export various other animated plots using the same code snippet from above."
   ]
  }
 ],
 "metadata": {
  "kernelspec": {
   "display_name": "Python 3 (ipykernel)",
   "language": "python",
   "name": "python3"
  },
  "language_info": {
   "codemirror_mode": {
    "name": "ipython",
    "version": 3
   },
   "file_extension": ".py",
   "mimetype": "text/x-python",
   "name": "python",
   "nbconvert_exporter": "python",
   "pygments_lexer": "ipython3",
   "version": "3.9.9"
  },
  "test_name": "notebook1"
 },
 "nbformat": 4,
 "nbformat_minor": 2
}
