{
 "cells": [
  {
   "cell_type": "markdown",
   "metadata": {
    "tags": [
     "remove-input"
    ]
   },
   "source": [
    "```{currentmodule} optimap\n",
    "```"
   ]
  },
  {
   "cell_type": "code",
   "execution_count": null,
   "metadata": {
    "tags": [
     "remove-input",
     "remove-output"
    ]
   },
   "outputs": [],
   "source": [
    "# Code snippet for rendering animations in the docs\n",
    "from IPython.display import HTML\n",
    "import warnings\n",
    "import matplotlib\n",
    "matplotlib.rcParams['animation.embed_limit'] = 2**128\n",
    "import matplotlib.pyplot as plt\n",
    "\n",
    "def render_ani_func(f):\n",
    "    om.utils.disable_interactive_backend_switching()\n",
    "    plt.switch_backend('Agg')\n",
    "    with warnings.catch_warnings():\n",
    "        warnings.simplefilter(\"ignore\")\n",
    "        ani = f()\n",
    "    %matplotlib inline\n",
    "    om.utils.enable_interactive_backend_switching()\n",
    "\n",
    "    vid = HTML(ani.to_html5_video())\n",
    "    plt.close('all')\n",
    "    return vid"
   ]
  },
  {
   "cell_type": "markdown",
   "metadata": {},
   "source": [
    "```{tip}\n",
    "Download this tutorial as a {download}`Jupyter notebook <converted/motion_compensation.ipynb>`, or a {download}`python script <converted/motion_compensation.py>` with code cells.\n",
    "```\n",
    "\n",
    "# Tutorial 4: Motion Compensation\n",
    "\n",
    "This tutorial introduces the motion compensation capabilities of ``optimap``. Motion in optical mapping studies causes severe measurement artifacts [{footcite:t}`Rohde2005,Christoph2018a, Lebert2022, Kappadan2023, Christoph2023`]. Therefore, the vast majority of optical mapping studies are conducted with pharmacological agents, such as Blebbistatin, which suppress the contractile motion of heart tissue by uncoupling the excitation-contraction coupling mechanism [{footcite:t}`Swift2021`]. `optimap` includes numerical methods with which motion artifacts can be substantially reduced. Therefore, instead of suppressing motion pharmacologically, we can use ``optimap`` to track, stabilize and inhibit motion and motion artifacts numerically. In many cases, uncoupling agents are no longer needed and optical mapping can be performed with freely beating hearts when using ``optimap``. \n",
    "\n",
    "This tutorial explains how to process cardiac optical mapping recordings with motion and discusses best practices to reduce motion artifacts using numerical motion tracking. [Tutorial 7](ratiometry.ipynb) discusses an additional optical technique, ratiometric imaging, which can be applied in combination with numerical motion tracking to further reduce motion artifacts, see also {footcite:t}`Kappadan2020`.\n",
    "\n",
    "We will discuss several examples which illustrate the effectiveness of numerical motion compensation as well as its limitations. \n",
    "\n",
    "## Types of Rhythms and Video Quality\n",
    "\n",
    "The effectiveness of numerical motion compensation depends on various factors including the quality of the video data and the type of rhythm:\n",
    "\n",
    "* Strong motion and deformation poses the most difficult data, because the tissue can move out of the field or deform so strongly that tracking fails. With strong motion (e.g. sinus rhythm) it is also required to use ratiometric imaging in addition to numerical motion compensation, see [Tutorial 7](ratiometry.ipynb) for more details.\n",
    "* Arrhythmias, in particular tachyarrhythmias such as ventricular fibrillation (VF), are easier to process because motion is moderate or small, see {footcite:t}`Christoph2018,Christoph2018a`. Ratiometric imaging, as described in [Tutorial 7](ratiometry.ipynb), is not necessarily required during arrhythmias depending on the motion and desired analysis, see also {footcite:t}`Kappadan2020`.\n",
    "* Action potential duration (APD) measurements (see [Tutorial 8](apd.ipynb)) are much more challenging than activation times/maps (see [Tutorial 5](activation.ipynb)) or conduction velocity (see [Tutorial 6](cv.ipynb)) measurements with motion. Action potential duration (APD) measurements (see [Tutorial 8](apd.ipynb)) require ratiometric imaging, see [Tutorial 7](ratiometry.ipynb).\n",
    "* Noisy video data can impede the tracking.\n",
    "* A shallow depth of focus and blurring of the image can impede the tracking.\n",
    "* The tissue needs to be illuminated as evenly as possible, see [Tutorial 7](ratiometry.ipynb) for details.\n",
    "\n",
    "\n",
    "We will start with an example of ventricular pacing:\n",
    "\n",
    "The code below automatically downloads an example file from our website [cardiacvision.ucsf.edu](https://cardiacvision.ucsf.edu). The video shows an action potential wave propagating across the ventricular surface of beating rabbit heart. The recording was peformed with voltage-sensitive fluorescent dye (Di-4-ANEPPS) and a high-speed camera (Basler acA720-520um) at 500fps. Experimenters: Jan Lebert, Namita Ravi & Jan Christoph (University of California, San Francisco, USA), 2022."
   ]
  },
  {
   "cell_type": "code",
   "execution_count": null,
   "metadata": {},
   "outputs": [],
   "source": [
    "import optimap as om\n",
    "# import monochrome as mc  # remove this if you don't have monochrome installed\n",
    "\n",
    "filename = om.utils.retrieve_example_data('Example_01_Sinus_Rabbit_Basler.npy')\n",
    "video = om.load_video(filename)\n",
    "video = om.video.rotate_left(video)"
   ]
  },
  {
   "cell_type": "markdown",
   "metadata": {},
   "source": [
    "Alternatively, you can load your own video file by replacing `filename` with the name of your file (e.g. `filename = 'your_video_file.rsh'`), if it is located in the same folder as the script. If the video file is located somewhere else on your computer you can provide the path and filename (e.g. `'filename = /Users/userx/Desktop/your_video_file.rsh'`). Note, that we used {func}`optimap.video.rotate_left` to rotate the video to the left.\n",
    "\n",
    "We can view this video using `optimap`'s built-in video player:"
   ]
  },
  {
   "cell_type": "code",
   "execution_count": null,
   "metadata": {
    "tags": [
     "skip-execution"
    ]
   },
   "outputs": [],
   "source": [
    "om.video.play(video, title=\"original video with strong deformation\");"
   ]
  },
  {
   "cell_type": "code",
   "execution_count": null,
   "metadata": {
    "tags": [
     "remove-input"
    ]
   },
   "outputs": [],
   "source": [
    "render_ani_func(lambda: om.video.play(video, 1, title=\"original video with strong deformation\", interval=20))"
   ]
  },
  {
   "cell_type": "markdown",
   "metadata": {},
   "source": [
    "You can see that the heart deforms strongly in our example video. Now, we are going to track the motion of the heart and will use the tracking data to create another motion-stabilized video in which the motion is absent:"
   ]
  },
  {
   "cell_type": "code",
   "execution_count": null,
   "metadata": {
    "tags": [
     "remove-output",
     "skip-execution"
    ]
   },
   "outputs": [],
   "source": [
    "warped = om.motion.motion_compensate(video, 5, ref_frame=40)\n",
    "flows_nocontrast = om.motion.estimate_displacements(video, 40)\n",
    "warped_nocontrast = om.motion.warp_video(video, flows_nocontrast)\n",
    "om.video.playn([video, warped, warped_nocontrast],\n",
    "               titles=[\"original video\", \"with contrast-enhancement\", \"w/o contrast-enhancement\"], figsize=(8, 3.5));"
   ]
  },
  {
   "cell_type": "code",
   "execution_count": null,
   "metadata": {
    "tags": [
     "skip-execution"
    ]
   },
   "outputs": [],
   "source": [
    "warped_ref0 = om.motion_compensate(video, contrast_kernel=5, ref_frame=0)\n",
    "warped_ref40 = om.motion_compensate(video, contrast_kernel=5, ref_frame=40)\n",
    "om.video.playn([video, warped_ref40, warped_ref0], titles=[\"original video\", \"compensated ref 40\", \"compensated ref 0\"], figsize=(8, 3.5));"
   ]
  },
  {
   "cell_type": "code",
   "execution_count": null,
   "metadata": {
    "tags": [
     "remove-input"
    ]
   },
   "outputs": [],
   "source": [
    "warped_ref0 = om.motion_compensate(video, contrast_kernel=5, ref_frame=0)\n",
    "warped_ref40 = om.motion_compensate(video, contrast_kernel=5, ref_frame=40)\n",
    "render_ani_func(lambda: om.video.playn([video, warped_ref40, warped_ref0], titles=[\"original video\", \"compensated ref 40\", \"compensated ref 0\"], interval=20, figsize=(8, 3.5)))"
   ]
  },
  {
   "cell_type": "code",
   "execution_count": null,
   "metadata": {
    "tags": [
     "skip-execution"
    ]
   },
   "outputs": [],
   "source": [
    "contrast3 = om.motion.contrast_enhancement(video[:300], 3)\n",
    "contrast5 = om.motion.contrast_enhancement(video[:300], 5)\n",
    "contrast9 = om.motion.contrast_enhancement(video[:300], 9)\n",
    "om.video.playn([contrast3, contrast5, contrast9],\n",
    "               titles=[\"contrast kernel 3\", \"contrast kernel 5\", \"contrast kernel 9\"],\n",
    "               skip_frame=3,\n",
    "               figsize=(8, 3.5));"
   ]
  },
  {
   "cell_type": "code",
   "execution_count": null,
   "metadata": {
    "tags": [
     "remove-input"
    ]
   },
   "outputs": [],
   "source": [
    "def f():\n",
    "    contrast3 = om.motion.contrast_enhancement(video[:300], 3)\n",
    "    contrast5 = om.motion.contrast_enhancement(video[:300], 5)\n",
    "    contrast9 = om.motion.contrast_enhancement(video[:300], 9)\n",
    "    return om.video.playn([contrast3, contrast5, contrast9], titles=[\"contrast kernel 3\", \"contrast kernel 5\", \"contrast kernel 9\"], skip_frame=1, figsize=(8, 3.5))\n",
    "render_ani_func(f)"
   ]
  },
  {
   "cell_type": "markdown",
   "metadata": {},
   "source": [
    "```{footbibliography}\n",
    "```"
   ]
  }
 ],
 "metadata": {
  "kernelspec": {
   "display_name": "napari",
   "language": "python",
   "name": "python3"
  },
  "language_info": {
   "codemirror_mode": {
    "name": "ipython",
    "version": 3
   },
   "file_extension": ".py",
   "mimetype": "text/x-python",
   "name": "python",
   "nbconvert_exporter": "python",
   "pygments_lexer": "ipython3",
   "version": "3.9.13"
  },
  "orig_nbformat": 4
 },
 "nbformat": 4,
 "nbformat_minor": 2
}
