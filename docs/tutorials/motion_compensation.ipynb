{
 "cells": [
  {
   "cell_type": "markdown",
   "metadata": {
    "tags": [
     "remove-input"
    ]
   },
   "source": [
    "```{currentmodule} optimap\n",
    "```"
   ]
  },
  {
   "cell_type": "code",
   "execution_count": null,
   "metadata": {
    "tags": [
     "remove-input",
     "remove-output"
    ]
   },
   "outputs": [],
   "source": [
    "# Code snippet for rendering animations in the docs\n",
    "from IPython.display import HTML\n",
    "import warnings\n",
    "import matplotlib\n",
    "matplotlib.rcParams['animation.embed_limit'] = 2**128\n",
    "import matplotlib.pyplot as plt\n",
    "\n",
    "def render_ani_func(f):\n",
    "    om.utils.disable_interactive_backend_switching()\n",
    "    plt.switch_backend('Agg')\n",
    "    with warnings.catch_warnings():\n",
    "        warnings.simplefilter(\"ignore\")\n",
    "        ani = f()\n",
    "    %matplotlib inline\n",
    "    om.utils.enable_interactive_backend_switching()\n",
    "\n",
    "    vid = HTML(ani.to_html5_video())\n",
    "    plt.close('all')\n",
    "    return vid"
   ]
  },
  {
   "cell_type": "markdown",
   "metadata": {},
   "source": [
    "```{tip}\n",
    "Download this tutorial as a {download}`Jupyter notebook <converted/motion_compensation.ipynb>`, or a {download}`python script <converted/motion_compensation.py>` with code cells.\n",
    "```\n",
    "\n",
    "# Tutorial 3: Motion Compensation\n",
    "\n",
    "This tutorial focuses on the motion tracking, motion-stabilization and motion artifact compensation capabilities of `optimap`.\n",
    "\n",
    "```{warning}\n",
    "This tutorial is currently in preparation. Please check back later for updates.\n",
    "```\n",
    "First, we import an example video file from our website [cardiacvision.ucsf.edu](https://cardiacvision.ucsf.edu). The video shows an action potential wave propagating across the ventricular surface of beating rabbit heart. The recording was peformed with voltage-sensitive fluorescent dye (Di-4-ANEPPS) and a high-speed camera (Basler acA720-520um) at 500fps. Experimenters: Jan Lebert, Namita Ravi & Jan Christoph (University of California, San Francisco, USA), 2022."
   ]
  },
  {
   "cell_type": "code",
   "execution_count": null,
   "metadata": {},
   "outputs": [],
   "source": [
    "import optimap as om\n",
    "# import monochrome as mc  # remove this if you don't have monochrome installed\n",
    "\n",
    "filename = om.utils.retrieve_example_data('Example_01_Sinus_Rabbit_Basler.npy')\n",
    "video = om.load_video(filename)\n",
    "video = om.video.rotate_left(video)"
   ]
  },
  {
   "cell_type": "markdown",
   "metadata": {},
   "source": [
    "Alternatively, you can load your own video file by replacing `filename` with the name of your file (e.g. `filename = 'your_video_file.rsh'`), if it is located in the same folder as the script. If the video file is located somewhere else on your computer you can provide the path and filename (e.g. `'filename = /Users/userx/Desktop/your_video_file.rsh'`). Note, that we used {func}`optimap.video.rotate_left` to rotate the video to the left.\n",
    "\n",
    "We can view this video using `optimap`'s built-in video player:"
   ]
  },
  {
   "cell_type": "code",
   "execution_count": null,
   "metadata": {
    "tags": [
     "skip-execution"
    ]
   },
   "outputs": [],
   "source": [
    "om.video.play(video, title=\"original video with strong deformation\");"
   ]
  },
  {
   "cell_type": "code",
   "execution_count": null,
   "metadata": {
    "tags": [
     "remove-input"
    ]
   },
   "outputs": [],
   "source": [
    "render_ani_func(lambda: om.video.play(video, 1, title=\"original video with strong deformation\", interval=20))"
   ]
  },
  {
   "cell_type": "markdown",
   "metadata": {},
   "source": [
    "You can see that the heart deforms strongly in our example video. Now, we are going to track the motion of the heart and will use the tracking data to create another motion-stabilized video in which the motion is absent:"
   ]
  },
  {
   "cell_type": "code",
   "execution_count": null,
   "metadata": {
    "tags": [
     "remove-output",
     "skip-execution"
    ]
   },
   "outputs": [],
   "source": [
    "warped = om.motion.motion_compensate(video, 5, ref_frame=40)\n",
    "flows_nocontrast = om.motion.estimate_displacements(video, 40)\n",
    "warped_nocontrast = om.motion.warp_video(video, flows_nocontrast)\n",
    "om.video.playn([video, warped, warped_nocontrast],\n",
    "               titles=[\"original video\", \"with contrast-enhancement\", \"w/o contrast-enhancement\"], figsize=(8, 3.5));"
   ]
  },
  {
   "cell_type": "code",
   "execution_count": null,
   "metadata": {
    "tags": [
     "skip-execution"
    ]
   },
   "outputs": [],
   "source": [
    "warped_ref0 = om.motion_compensate(video, contrast_kernel=5, ref_frame=0)\n",
    "warped_ref40 = om.motion_compensate(video, contrast_kernel=5, ref_frame=40)\n",
    "om.video.playn([video, warped_ref40, warped_ref0], titles=[\"original video\", \"compensated ref 40\", \"compensated ref 0\"], figsize=(8, 3.5));"
   ]
  },
  {
   "cell_type": "code",
   "execution_count": null,
   "metadata": {
    "tags": [
     "remove-input"
    ]
   },
   "outputs": [],
   "source": [
    "warped_ref0 = om.motion_compensate(video, contrast_kernel=5, ref_frame=0)\n",
    "warped_ref40 = om.motion_compensate(video, contrast_kernel=5, ref_frame=40)\n",
    "render_ani_func(lambda: om.video.playn([video, warped_ref40, warped_ref0], titles=[\"original video\", \"compensated ref 40\", \"compensated ref 0\"], interval=20, figsize=(8, 3.5)))"
   ]
  },
  {
   "cell_type": "code",
   "execution_count": null,
   "metadata": {
    "tags": [
     "skip-execution"
    ]
   },
   "outputs": [],
   "source": [
    "contrast3 = om.motion.contrast_enhancement(video[:300], 3)\n",
    "contrast5 = om.motion.contrast_enhancement(video[:300], 5)\n",
    "contrast9 = om.motion.contrast_enhancement(video[:300], 9)\n",
    "om.video.playn([contrast3, contrast5, contrast9],\n",
    "               titles=[\"contrast kernel 3\", \"contrast kernel 5\", \"contrast kernel 9\"],\n",
    "               skip_frame=3,\n",
    "               figsize=(8, 3.5));"
   ]
  },
  {
   "cell_type": "code",
   "execution_count": null,
   "metadata": {
    "tags": [
     "remove-input"
    ]
   },
   "outputs": [],
   "source": [
    "def f():\n",
    "    contrast3 = om.motion.contrast_enhancement(video[:300], 3)\n",
    "    contrast5 = om.motion.contrast_enhancement(video[:300], 5)\n",
    "    contrast9 = om.motion.contrast_enhancement(video[:300], 9)\n",
    "    return om.video.playn([contrast3, contrast5, contrast9], titles=[\"contrast kernel 3\", \"contrast kernel 5\", \"contrast kernel 9\"], skip_frame=1, figsize=(8, 3.5))\n",
    "render_ani_func(f)"
   ]
  }
 ],
 "metadata": {
  "kernelspec": {
   "display_name": "napari",
   "language": "python",
   "name": "python3"
  },
  "language_info": {
   "codemirror_mode": {
    "name": "ipython",
    "version": 3
   },
   "file_extension": ".py",
   "mimetype": "text/x-python",
   "name": "python",
   "nbconvert_exporter": "python",
   "pygments_lexer": "ipython3",
   "version": "3.9.13"
  },
  "orig_nbformat": 4
 },
 "nbformat": 4,
 "nbformat_minor": 2
}
